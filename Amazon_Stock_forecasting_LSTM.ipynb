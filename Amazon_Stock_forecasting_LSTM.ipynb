{
  "nbformat": 4,
  "nbformat_minor": 0,
  "metadata": {
    "colab": {
      "provenance": [],
      "gpuType": "T4",
      "mount_file_id": "11WP6g8pG0DWSzc_VIwmE1PqTTVMKJmGv",
      "authorship_tag": "ABX9TyN/YCgmZ40UILF9wSmurJ38",
      "include_colab_link": true
    },
    "kernelspec": {
      "name": "python3",
      "display_name": "Python 3"
    },
    "language_info": {
      "name": "python"
    },
    "accelerator": "GPU"
  },
  "cells": [
    {
      "cell_type": "markdown",
      "metadata": {
        "id": "view-in-github",
        "colab_type": "text"
      },
      "source": [
        "<a href=\"https://colab.research.google.com/github/saketh1305/Pytorch_DL/blob/main/Amazon_Stock_forecasting_LSTM.ipynb\" target=\"_parent\"><img src=\"https://colab.research.google.com/assets/colab-badge.svg\" alt=\"Open In Colab\"/></a>"
      ]
    },
    {
      "cell_type": "code",
      "execution_count": 3,
      "metadata": {
        "id": "LBeUA0-A7jVm"
      },
      "outputs": [],
      "source": [
        "import pandas as pd\n",
        "import numpy as np\n",
        "import matplotlib.pyplot as plt\n",
        "\n",
        "import torch\n",
        "import torch.nn as nn\n",
        "\n",
        "data = pd.read_csv(\"/content/AMZN.csv\")\n"
      ]
    },
    {
      "cell_type": "code",
      "source": [
        "data = data[[\"Date\",\"Close\"]]\n",
        "data.head()"
      ],
      "metadata": {
        "colab": {
          "base_uri": "https://localhost:8080/",
          "height": 206
        },
        "id": "K_Cr67UM8CaS",
        "outputId": "88ce0762-6052-4683-e189-6852d35556a0"
      },
      "execution_count": 5,
      "outputs": [
        {
          "output_type": "execute_result",
          "data": {
            "text/plain": [
              "         Date     Close\n",
              "0  1997-05-15  0.097917\n",
              "1  1997-05-16  0.086458\n",
              "2  1997-05-19  0.085417\n",
              "3  1997-05-20  0.081771\n",
              "4  1997-05-21  0.071354"
            ],
            "text/html": [
              "\n",
              "  <div id=\"df-1163fcef-3ec4-4005-bbfa-975325e9273f\" class=\"colab-df-container\">\n",
              "    <div>\n",
              "<style scoped>\n",
              "    .dataframe tbody tr th:only-of-type {\n",
              "        vertical-align: middle;\n",
              "    }\n",
              "\n",
              "    .dataframe tbody tr th {\n",
              "        vertical-align: top;\n",
              "    }\n",
              "\n",
              "    .dataframe thead th {\n",
              "        text-align: right;\n",
              "    }\n",
              "</style>\n",
              "<table border=\"1\" class=\"dataframe\">\n",
              "  <thead>\n",
              "    <tr style=\"text-align: right;\">\n",
              "      <th></th>\n",
              "      <th>Date</th>\n",
              "      <th>Close</th>\n",
              "    </tr>\n",
              "  </thead>\n",
              "  <tbody>\n",
              "    <tr>\n",
              "      <th>0</th>\n",
              "      <td>1997-05-15</td>\n",
              "      <td>0.097917</td>\n",
              "    </tr>\n",
              "    <tr>\n",
              "      <th>1</th>\n",
              "      <td>1997-05-16</td>\n",
              "      <td>0.086458</td>\n",
              "    </tr>\n",
              "    <tr>\n",
              "      <th>2</th>\n",
              "      <td>1997-05-19</td>\n",
              "      <td>0.085417</td>\n",
              "    </tr>\n",
              "    <tr>\n",
              "      <th>3</th>\n",
              "      <td>1997-05-20</td>\n",
              "      <td>0.081771</td>\n",
              "    </tr>\n",
              "    <tr>\n",
              "      <th>4</th>\n",
              "      <td>1997-05-21</td>\n",
              "      <td>0.071354</td>\n",
              "    </tr>\n",
              "  </tbody>\n",
              "</table>\n",
              "</div>\n",
              "    <div class=\"colab-df-buttons\">\n",
              "\n",
              "  <div class=\"colab-df-container\">\n",
              "    <button class=\"colab-df-convert\" onclick=\"convertToInteractive('df-1163fcef-3ec4-4005-bbfa-975325e9273f')\"\n",
              "            title=\"Convert this dataframe to an interactive table.\"\n",
              "            style=\"display:none;\">\n",
              "\n",
              "  <svg xmlns=\"http://www.w3.org/2000/svg\" height=\"24px\" viewBox=\"0 -960 960 960\">\n",
              "    <path d=\"M120-120v-720h720v720H120Zm60-500h600v-160H180v160Zm220 220h160v-160H400v160Zm0 220h160v-160H400v160ZM180-400h160v-160H180v160Zm440 0h160v-160H620v160ZM180-180h160v-160H180v160Zm440 0h160v-160H620v160Z\"/>\n",
              "  </svg>\n",
              "    </button>\n",
              "\n",
              "  <style>\n",
              "    .colab-df-container {\n",
              "      display:flex;\n",
              "      gap: 12px;\n",
              "    }\n",
              "\n",
              "    .colab-df-convert {\n",
              "      background-color: #E8F0FE;\n",
              "      border: none;\n",
              "      border-radius: 50%;\n",
              "      cursor: pointer;\n",
              "      display: none;\n",
              "      fill: #1967D2;\n",
              "      height: 32px;\n",
              "      padding: 0 0 0 0;\n",
              "      width: 32px;\n",
              "    }\n",
              "\n",
              "    .colab-df-convert:hover {\n",
              "      background-color: #E2EBFA;\n",
              "      box-shadow: 0px 1px 2px rgba(60, 64, 67, 0.3), 0px 1px 3px 1px rgba(60, 64, 67, 0.15);\n",
              "      fill: #174EA6;\n",
              "    }\n",
              "\n",
              "    .colab-df-buttons div {\n",
              "      margin-bottom: 4px;\n",
              "    }\n",
              "\n",
              "    [theme=dark] .colab-df-convert {\n",
              "      background-color: #3B4455;\n",
              "      fill: #D2E3FC;\n",
              "    }\n",
              "\n",
              "    [theme=dark] .colab-df-convert:hover {\n",
              "      background-color: #434B5C;\n",
              "      box-shadow: 0px 1px 3px 1px rgba(0, 0, 0, 0.15);\n",
              "      filter: drop-shadow(0px 1px 2px rgba(0, 0, 0, 0.3));\n",
              "      fill: #FFFFFF;\n",
              "    }\n",
              "  </style>\n",
              "\n",
              "    <script>\n",
              "      const buttonEl =\n",
              "        document.querySelector('#df-1163fcef-3ec4-4005-bbfa-975325e9273f button.colab-df-convert');\n",
              "      buttonEl.style.display =\n",
              "        google.colab.kernel.accessAllowed ? 'block' : 'none';\n",
              "\n",
              "      async function convertToInteractive(key) {\n",
              "        const element = document.querySelector('#df-1163fcef-3ec4-4005-bbfa-975325e9273f');\n",
              "        const dataTable =\n",
              "          await google.colab.kernel.invokeFunction('convertToInteractive',\n",
              "                                                    [key], {});\n",
              "        if (!dataTable) return;\n",
              "\n",
              "        const docLinkHtml = 'Like what you see? Visit the ' +\n",
              "          '<a target=\"_blank\" href=https://colab.research.google.com/notebooks/data_table.ipynb>data table notebook</a>'\n",
              "          + ' to learn more about interactive tables.';\n",
              "        element.innerHTML = '';\n",
              "        dataTable['output_type'] = 'display_data';\n",
              "        await google.colab.output.renderOutput(dataTable, element);\n",
              "        const docLink = document.createElement('div');\n",
              "        docLink.innerHTML = docLinkHtml;\n",
              "        element.appendChild(docLink);\n",
              "      }\n",
              "    </script>\n",
              "  </div>\n",
              "\n",
              "\n",
              "<div id=\"df-109fc456-22c1-475d-82ed-04bf16fa967b\">\n",
              "  <button class=\"colab-df-quickchart\" onclick=\"quickchart('df-109fc456-22c1-475d-82ed-04bf16fa967b')\"\n",
              "            title=\"Suggest charts\"\n",
              "            style=\"display:none;\">\n",
              "\n",
              "<svg xmlns=\"http://www.w3.org/2000/svg\" height=\"24px\"viewBox=\"0 0 24 24\"\n",
              "     width=\"24px\">\n",
              "    <g>\n",
              "        <path d=\"M19 3H5c-1.1 0-2 .9-2 2v14c0 1.1.9 2 2 2h14c1.1 0 2-.9 2-2V5c0-1.1-.9-2-2-2zM9 17H7v-7h2v7zm4 0h-2V7h2v10zm4 0h-2v-4h2v4z\"/>\n",
              "    </g>\n",
              "</svg>\n",
              "  </button>\n",
              "\n",
              "<style>\n",
              "  .colab-df-quickchart {\n",
              "      --bg-color: #E8F0FE;\n",
              "      --fill-color: #1967D2;\n",
              "      --hover-bg-color: #E2EBFA;\n",
              "      --hover-fill-color: #174EA6;\n",
              "      --disabled-fill-color: #AAA;\n",
              "      --disabled-bg-color: #DDD;\n",
              "  }\n",
              "\n",
              "  [theme=dark] .colab-df-quickchart {\n",
              "      --bg-color: #3B4455;\n",
              "      --fill-color: #D2E3FC;\n",
              "      --hover-bg-color: #434B5C;\n",
              "      --hover-fill-color: #FFFFFF;\n",
              "      --disabled-bg-color: #3B4455;\n",
              "      --disabled-fill-color: #666;\n",
              "  }\n",
              "\n",
              "  .colab-df-quickchart {\n",
              "    background-color: var(--bg-color);\n",
              "    border: none;\n",
              "    border-radius: 50%;\n",
              "    cursor: pointer;\n",
              "    display: none;\n",
              "    fill: var(--fill-color);\n",
              "    height: 32px;\n",
              "    padding: 0;\n",
              "    width: 32px;\n",
              "  }\n",
              "\n",
              "  .colab-df-quickchart:hover {\n",
              "    background-color: var(--hover-bg-color);\n",
              "    box-shadow: 0 1px 2px rgba(60, 64, 67, 0.3), 0 1px 3px 1px rgba(60, 64, 67, 0.15);\n",
              "    fill: var(--button-hover-fill-color);\n",
              "  }\n",
              "\n",
              "  .colab-df-quickchart-complete:disabled,\n",
              "  .colab-df-quickchart-complete:disabled:hover {\n",
              "    background-color: var(--disabled-bg-color);\n",
              "    fill: var(--disabled-fill-color);\n",
              "    box-shadow: none;\n",
              "  }\n",
              "\n",
              "  .colab-df-spinner {\n",
              "    border: 2px solid var(--fill-color);\n",
              "    border-color: transparent;\n",
              "    border-bottom-color: var(--fill-color);\n",
              "    animation:\n",
              "      spin 1s steps(1) infinite;\n",
              "  }\n",
              "\n",
              "  @keyframes spin {\n",
              "    0% {\n",
              "      border-color: transparent;\n",
              "      border-bottom-color: var(--fill-color);\n",
              "      border-left-color: var(--fill-color);\n",
              "    }\n",
              "    20% {\n",
              "      border-color: transparent;\n",
              "      border-left-color: var(--fill-color);\n",
              "      border-top-color: var(--fill-color);\n",
              "    }\n",
              "    30% {\n",
              "      border-color: transparent;\n",
              "      border-left-color: var(--fill-color);\n",
              "      border-top-color: var(--fill-color);\n",
              "      border-right-color: var(--fill-color);\n",
              "    }\n",
              "    40% {\n",
              "      border-color: transparent;\n",
              "      border-right-color: var(--fill-color);\n",
              "      border-top-color: var(--fill-color);\n",
              "    }\n",
              "    60% {\n",
              "      border-color: transparent;\n",
              "      border-right-color: var(--fill-color);\n",
              "    }\n",
              "    80% {\n",
              "      border-color: transparent;\n",
              "      border-right-color: var(--fill-color);\n",
              "      border-bottom-color: var(--fill-color);\n",
              "    }\n",
              "    90% {\n",
              "      border-color: transparent;\n",
              "      border-bottom-color: var(--fill-color);\n",
              "    }\n",
              "  }\n",
              "</style>\n",
              "\n",
              "  <script>\n",
              "    async function quickchart(key) {\n",
              "      const quickchartButtonEl =\n",
              "        document.querySelector('#' + key + ' button');\n",
              "      quickchartButtonEl.disabled = true;  // To prevent multiple clicks.\n",
              "      quickchartButtonEl.classList.add('colab-df-spinner');\n",
              "      try {\n",
              "        const charts = await google.colab.kernel.invokeFunction(\n",
              "            'suggestCharts', [key], {});\n",
              "      } catch (error) {\n",
              "        console.error('Error during call to suggestCharts:', error);\n",
              "      }\n",
              "      quickchartButtonEl.classList.remove('colab-df-spinner');\n",
              "      quickchartButtonEl.classList.add('colab-df-quickchart-complete');\n",
              "    }\n",
              "    (() => {\n",
              "      let quickchartButtonEl =\n",
              "        document.querySelector('#df-109fc456-22c1-475d-82ed-04bf16fa967b button');\n",
              "      quickchartButtonEl.style.display =\n",
              "        google.colab.kernel.accessAllowed ? 'block' : 'none';\n",
              "    })();\n",
              "  </script>\n",
              "</div>\n",
              "\n",
              "    </div>\n",
              "  </div>\n"
            ],
            "application/vnd.google.colaboratory.intrinsic+json": {
              "type": "dataframe",
              "variable_name": "data",
              "summary": "{\n  \"name\": \"data\",\n  \"rows\": 6516,\n  \"fields\": [\n    {\n      \"column\": \"Date\",\n      \"properties\": {\n        \"dtype\": \"object\",\n        \"num_unique_values\": 6516,\n        \"samples\": [\n          \"2020-12-11\",\n          \"2004-10-25\",\n          \"2001-05-07\"\n        ],\n        \"semantic_type\": \"\",\n        \"description\": \"\"\n      }\n    },\n    {\n      \"column\": \"Close\",\n      \"properties\": {\n        \"dtype\": \"number\",\n        \"std\": 48.060258291749946,\n        \"min\": 0.069792,\n        \"max\": 186.570496,\n        \"num_unique_values\": 5899,\n        \"samples\": [\n          133.220001,\n          1.8475,\n          2.3005\n        ],\n        \"semantic_type\": \"\",\n        \"description\": \"\"\n      }\n    }\n  ]\n}"
            }
          },
          "metadata": {},
          "execution_count": 5
        }
      ]
    },
    {
      "cell_type": "code",
      "source": [
        "device = \"cuda:0\" if torch.cuda.is_available() else \"cpu\"\n",
        "device"
      ],
      "metadata": {
        "colab": {
          "base_uri": "https://localhost:8080/",
          "height": 35
        },
        "id": "BN3bOQ7n8uGH",
        "outputId": "f45f3e00-0c59-41d8-a952-77710a0c8585"
      },
      "execution_count": 6,
      "outputs": [
        {
          "output_type": "execute_result",
          "data": {
            "text/plain": [
              "'cuda:0'"
            ],
            "application/vnd.google.colaboratory.intrinsic+json": {
              "type": "string"
            }
          },
          "metadata": {},
          "execution_count": 6
        }
      ]
    },
    {
      "cell_type": "code",
      "source": [
        "data['Date'] = pd.to_datetime(data[\"Date\"])\n",
        "plt.plot(data[\"Date\"] , data[\"Close\"])"
      ],
      "metadata": {
        "colab": {
          "base_uri": "https://localhost:8080/",
          "height": 448
        },
        "id": "MCTPHda089D1",
        "outputId": "ba34f33f-0d1c-4475-9b72-94c8b7d5289c"
      },
      "execution_count": 7,
      "outputs": [
        {
          "output_type": "execute_result",
          "data": {
            "text/plain": [
              "[<matplotlib.lines.Line2D at 0x7c57dc7d9050>]"
            ]
          },
          "metadata": {},
          "execution_count": 7
        },
        {
          "output_type": "display_data",
          "data": {
            "text/plain": [
              "<Figure size 640x480 with 1 Axes>"
            ],
            "image/png": "[encoded data removed]"
          },
          "metadata": {}
        }
      ]
    },
    {
      "cell_type": "code",
      "source": [
        "from copy import deepcopy as dc\n",
        "\n",
        "def prepare_dataframe_for_lstm(df,n_steps):\n",
        "  df = dc(df)\n",
        "\n",
        "  df.set_index(\"Date\" , inplace = True)\n",
        "\n",
        "  for i in range(1, n_steps+1):\n",
        "    df[f'Close(t-{i})'] = df['Close'].shift(i)\n",
        "\n",
        "  df.dropna(inplace = True)\n",
        "\n",
        "  return df\n",
        "\n",
        "lookback = 7\n",
        "shifted_df = prepare_dataframe_for_lstm(data,lookback)\n",
        "shifted_df"
      ],
      "metadata": {
        "colab": {
          "base_uri": "https://localhost:8080/",
          "height": 666
        },
        "id": "qSZnLh3i9W2m",
        "outputId": "16df3bbc-9abb-4337-c574-ac6e4c84f520"
      },
      "execution_count": 9,
      "outputs": [
        {
          "output_type": "execute_result",
          "data": {
            "text/plain": [
              "                 Close  Close(t-1)  Close(t-2)  Close(t-3)  Close(t-4)  \\\n",
              "Date                                                                     \n",
              "1997-05-27    0.079167    0.075000    0.069792    0.071354    0.081771   \n",
              "1997-05-28    0.076563    0.079167    0.075000    0.069792    0.071354   \n",
              "1997-05-29    0.075260    0.076563    0.079167    0.075000    0.069792   \n",
              "1997-05-30    0.075000    0.075260    0.076563    0.079167    0.075000   \n",
              "1997-06-02    0.075521    0.075000    0.075260    0.076563    0.079167   \n",
              "...                ...         ...         ...         ...         ...   \n",
              "2023-03-30  102.000000  100.250000   97.239998   98.040001   98.129997   \n",
              "2023-03-31  103.290001  102.000000  100.250000   97.239998   98.040001   \n",
              "2023-04-03  102.410004  103.290001  102.000000  100.250000   97.239998   \n",
              "2023-04-04  103.949997  102.410004  103.290001  102.000000  100.250000   \n",
              "2023-04-05  101.099998  103.949997  102.410004  103.290001  102.000000   \n",
              "\n",
              "            Close(t-5)  Close(t-6)  Close(t-7)  \n",
              "Date                                            \n",
              "1997-05-27    0.085417    0.086458    0.097917  \n",
              "1997-05-28    0.081771    0.085417    0.086458  \n",
              "1997-05-29    0.071354    0.081771    0.085417  \n",
              "1997-05-30    0.069792    0.071354    0.081771  \n",
              "1997-06-02    0.075000    0.069792    0.071354  \n",
              "...                ...         ...         ...  \n",
              "2023-03-30   98.709999   98.699997  100.610001  \n",
              "2023-03-31   98.129997   98.709999   98.699997  \n",
              "2023-04-03   98.040001   98.129997   98.709999  \n",
              "2023-04-04   97.239998   98.040001   98.129997  \n",
              "2023-04-05  100.250000   97.239998   98.040001  \n",
              "\n",
              "[6509 rows x 8 columns]"
            ],
            "text/html": [
              "\n",
              "  <div id=\"df-c48e1cc5-67a5-4993-b9ba-e70d8e5c299a\" class=\"colab-df-container\">\n",
              "    <div>\n",
              "<style scoped>\n",
              "    .dataframe tbody tr th:only-of-type {\n",
              "        vertical-align: middle;\n",
              "    }\n",
              "\n",
              "    .dataframe tbody tr th {\n",
              "        vertical-align: top;\n",
              "    }\n",
              "\n",
              "    .dataframe thead th {\n",
              "        text-align: right;\n",
              "    }\n",
              "</style>\n",
              "<table border=\"1\" class=\"dataframe\">\n",
              "  <thead>\n",
              "    <tr style=\"text-align: right;\">\n",
              "      <th></th>\n",
              "      <th>Close</th>\n",
              "      <th>Close(t-1)</th>\n",
              "      <th>Close(t-2)</th>\n",
              "      <th>Close(t-3)</th>\n",
              "      <th>Close(t-4)</th>\n",
              "      <th>Close(t-5)</th>\n",
              "      <th>Close(t-6)</th>\n",
              "      <th>Close(t-7)</th>\n",
              "    </tr>\n",
              "    <tr>\n",
              "      <th>Date</th>\n",
              "      <th></th>\n",
              "      <th></th>\n",
              "      <th></th>\n",
              "      <th></th>\n",
              "      <th></th>\n",
              "      <th></th>\n",
              "      <th></th>\n",
              "      <th></th>\n",
              "    </tr>\n",
              "  </thead>\n",
              "  <tbody>\n",
              "    <tr>\n",
              "      <th>1997-05-27</th>\n",
              "      <td>0.079167</td>\n",
              "      <td>0.075000</td>\n",
              "      <td>0.069792</td>\n",
              "      <td>0.071354</td>\n",
              "      <td>0.081771</td>\n",
              "      <td>0.085417</td>\n",
              "      <td>0.086458</td>\n",
              "      <td>0.097917</td>\n",
              "    </tr>\n",
              "    <tr>\n",
              "      <th>1997-05-28</th>\n",
              "      <td>0.076563</td>\n",
              "      <td>0.079167</td>\n",
              "      <td>0.075000</td>\n",
              "      <td>0.069792</td>\n",
              "      <td>0.071354</td>\n",
              "      <td>0.081771</td>\n",
              "      <td>0.085417</td>\n",
              "      <td>0.086458</td>\n",
              "    </tr>\n",
              "    <tr>\n",
              "      <th>1997-05-29</th>\n",
              "      <td>0.075260</td>\n",
              "      <td>0.076563</td>\n",
              "      <td>0.079167</td>\n",
              "      <td>0.075000</td>\n",
              "      <td>0.069792</td>\n",
              "      <td>0.071354</td>\n",
              "      <td>0.081771</td>\n",
              "      <td>0.085417</td>\n",
              "    </tr>\n",
              "    <tr>\n",
              "      <th>1997-05-30</th>\n",
              "      <td>0.075000</td>\n",
              "      <td>0.075260</td>\n",
              "      <td>0.076563</td>\n",
              "      <td>0.079167</td>\n",
              "      <td>0.075000</td>\n",
              "      <td>0.069792</td>\n",
              "      <td>0.071354</td>\n",
              "      <td>0.081771</td>\n",
              "    </tr>\n",
              "    <tr>\n",
              "      <th>1997-06-02</th>\n",
              "      <td>0.075521</td>\n",
              "      <td>0.075000</td>\n",
              "      <td>0.075260</td>\n",
              "      <td>0.076563</td>\n",
              "      <td>0.079167</td>\n",
              "      <td>0.075000</td>\n",
              "      <td>0.069792</td>\n",
              "      <td>0.071354</td>\n",
              "    </tr>\n",
              "    <tr>\n",
              "      <th>...</th>\n",
              "      <td>...</td>\n",
              "      <td>...</td>\n",
              "      <td>...</td>\n",
              "      <td>...</td>\n",
              "      <td>...</td>\n",
              "      <td>...</td>\n",
              "      <td>...</td>\n",
              "      <td>...</td>\n",
              "    </tr>\n",
              "    <tr>\n",
              "      <th>2023-03-30</th>\n",
              "      <td>102.000000</td>\n",
              "      <td>100.250000</td>\n",
              "      <td>97.239998</td>\n",
              "      <td>98.040001</td>\n",
              "      <td>98.129997</td>\n",
              "      <td>98.709999</td>\n",
              "      <td>98.699997</td>\n",
              "      <td>100.610001</td>\n",
              "    </tr>\n",
              "    <tr>\n",
              "      <th>2023-03-31</th>\n",
              "      <td>103.290001</td>\n",
              "      <td>102.000000</td>\n",
              "      <td>100.250000</td>\n",
              "      <td>97.239998</td>\n",
              "      <td>98.040001</td>\n",
              "      <td>98.129997</td>\n",
              "      <td>98.709999</td>\n",
              "      <td>98.699997</td>\n",
              "    </tr>\n",
              "    <tr>\n",
              "      <th>2023-04-03</th>\n",
              "      <td>102.410004</td>\n",
              "      <td>103.290001</td>\n",
              "      <td>102.000000</td>\n",
              "      <td>100.250000</td>\n",
              "      <td>97.239998</td>\n",
              "      <td>98.040001</td>\n",
              "      <td>98.129997</td>\n",
              "      <td>98.709999</td>\n",
              "    </tr>\n",
              "    <tr>\n",
              "      <th>2023-04-04</th>\n",
              "      <td>103.949997</td>\n",
              "      <td>102.410004</td>\n",
              "      <td>103.290001</td>\n",
              "      <td>102.000000</td>\n",
              "      <td>100.250000</td>\n",
              "      <td>97.239998</td>\n",
              "      <td>98.040001</td>\n",
              "      <td>98.129997</td>\n",
              "    </tr>\n",
              "    <tr>\n",
              "      <th>2023-04-05</th>\n",
              "      <td>101.099998</td>\n",
              "      <td>103.949997</td>\n",
              "      <td>102.410004</td>\n",
              "      <td>103.290001</td>\n",
              "      <td>102.000000</td>\n",
              "      <td>100.250000</td>\n",
              "      <td>97.239998</td>\n",
              "      <td>98.040001</td>\n",
              "    </tr>\n",
              "  </tbody>\n",
              "</table>\n",
              "<p>6509 rows × 8 columns</p>\n",
              "</div>\n",
              "    <div class=\"colab-df-buttons\">\n",
              "\n",
              "  <div class=\"colab-df-container\">\n",
              "    <button class=\"colab-df-convert\" onclick=\"convertToInteractive('df-c48e1cc5-67a5-4993-b9ba-e70d8e5c299a')\"\n",
              "            title=\"Convert this dataframe to an interactive table.\"\n",
              "            style=\"display:none;\">\n",
              "\n",
              "  <svg xmlns=\"http://www.w3.org/2000/svg\" height=\"24px\" viewBox=\"0 -960 960 960\">\n",
              "    <path d=\"M120-120v-720h720v720H120Zm60-500h600v-160H180v160Zm220 220h160v-160H400v160Zm0 220h160v-160H400v160ZM180-400h160v-160H180v160Zm440 0h160v-160H620v160ZM180-180h160v-160H180v160Zm440 0h160v-160H620v160Z\"/>\n",
              "  </svg>\n",
              "    </button>\n",
              "\n",
              "  <style>\n",
              "    .colab-df-container {\n",
              "      display:flex;\n",
              "      gap: 12px;\n",
              "    }\n",
              "\n",
              "    .colab-df-convert {\n",
              "      background-color: #E8F0FE;\n",
              "      border: none;\n",
              "      border-radius: 50%;\n",
              "      cursor: pointer;\n",
              "      display: none;\n",
              "      fill: #1967D2;\n",
              "      height: 32px;\n",
              "      padding: 0 0 0 0;\n",
              "      width: 32px;\n",
              "    }\n",
              "\n",
              "    .colab-df-convert:hover {\n",
              "      background-color: #E2EBFA;\n",
              "      box-shadow: 0px 1px 2px rgba(60, 64, 67, 0.3), 0px 1px 3px 1px rgba(60, 64, 67, 0.15);\n",
              "      fill: #174EA6;\n",
              "    }\n",
              "\n",
              "    .colab-df-buttons div {\n",
              "      margin-bottom: 4px;\n",
              "    }\n",
              "\n",
              "    [theme=dark] .colab-df-convert {\n",
              "      background-color: #3B4455;\n",
              "      fill: #D2E3FC;\n",
              "    }\n",
              "\n",
              "    [theme=dark] .colab-df-convert:hover {\n",
              "      background-color: #434B5C;\n",
              "      box-shadow: 0px 1px 3px 1px rgba(0, 0, 0, 0.15);\n",
              "      filter: drop-shadow(0px 1px 2px rgba(0, 0, 0, 0.3));\n",
              "      fill: #FFFFFF;\n",
              "    }\n",
              "  </style>\n",
              "\n",
              "    <script>\n",
              "      const buttonEl =\n",
              "        document.querySelector('#df-c48e1cc5-67a5-4993-b9ba-e70d8e5c299a button.colab-df-convert');\n",
              "      buttonEl.style.display =\n",
              "        google.colab.kernel.accessAllowed ? 'block' : 'none';\n",
              "\n",
              "      async function convertToInteractive(key) {\n",
              "        const element = document.querySelector('#df-c48e1cc5-67a5-4993-b9ba-e70d8e5c299a');\n",
              "        const dataTable =\n",
              "          await google.colab.kernel.invokeFunction('convertToInteractive',\n",
              "                                                    [key], {});\n",
              "        if (!dataTable) return;\n",
              "\n",
              "        const docLinkHtml = 'Like what you see? Visit the ' +\n",
              "          '<a target=\"_blank\" href=https://colab.research.google.com/notebooks/data_table.ipynb>data table notebook</a>'\n",
              "          + ' to learn more about interactive tables.';\n",
              "        element.innerHTML = '';\n",
              "        dataTable['output_type'] = 'display_data';\n",
              "        await google.colab.output.renderOutput(dataTable, element);\n",
              "        const docLink = document.createElement('div');\n",
              "        docLink.innerHTML = docLinkHtml;\n",
              "        element.appendChild(docLink);\n",
              "      }\n",
              "    </script>\n",
              "  </div>\n",
              "\n",
              "\n",
              "<div id=\"df-c5189904-21e0-471e-a0d8-cd2bb630804c\">\n",
              "  <button class=\"colab-df-quickchart\" onclick=\"quickchart('df-c5189904-21e0-471e-a0d8-cd2bb630804c')\"\n",
              "            title=\"Suggest charts\"\n",
              "            style=\"display:none;\">\n",
              "\n",
              "<svg xmlns=\"http://www.w3.org/2000/svg\" height=\"24px\"viewBox=\"0 0 24 24\"\n",
              "     width=\"24px\">\n",
              "    <g>\n",
              "        <path d=\"M19 3H5c-1.1 0-2 .9-2 2v14c0 1.1.9 2 2 2h14c1.1 0 2-.9 2-2V5c0-1.1-.9-2-2-2zM9 17H7v-7h2v7zm4 0h-2V7h2v10zm4 0h-2v-4h2v4z\"/>\n",
              "    </g>\n",
              "</svg>\n",
              "  </button>\n",
              "\n",
              "<style>\n",
              "  .colab-df-quickchart {\n",
              "      --bg-color: #E8F0FE;\n",
              "      --fill-color: #1967D2;\n",
              "      --hover-bg-color: #E2EBFA;\n",
              "      --hover-fill-color: #174EA6;\n",
              "      --disabled-fill-color: #AAA;\n",
              "      --disabled-bg-color: #DDD;\n",
              "  }\n",
              "\n",
              "  [theme=dark] .colab-df-quickchart {\n",
              "      --bg-color: #3B4455;\n",
              "      --fill-color: #D2E3FC;\n",
              "      --hover-bg-color: #434B5C;\n",
              "      --hover-fill-color: #FFFFFF;\n",
              "      --disabled-bg-color: #3B4455;\n",
              "      --disabled-fill-color: #666;\n",
              "  }\n",
              "\n",
              "  .colab-df-quickchart {\n",
              "    background-color: var(--bg-color);\n",
              "    border: none;\n",
              "    border-radius: 50%;\n",
              "    cursor: pointer;\n",
              "    display: none;\n",
              "    fill: var(--fill-color);\n",
              "    height: 32px;\n",
              "    padding: 0;\n",
              "    width: 32px;\n",
              "  }\n",
              "\n",
              "  .colab-df-quickchart:hover {\n",
              "    background-color: var(--hover-bg-color);\n",
              "    box-shadow: 0 1px 2px rgba(60, 64, 67, 0.3), 0 1px 3px 1px rgba(60, 64, 67, 0.15);\n",
              "    fill: var(--button-hover-fill-color);\n",
              "  }\n",
              "\n",
              "  .colab-df-quickchart-complete:disabled,\n",
              "  .colab-df-quickchart-complete:disabled:hover {\n",
              "    background-color: var(--disabled-bg-color);\n",
              "    fill: var(--disabled-fill-color);\n",
              "    box-shadow: none;\n",
              "  }\n",
              "\n",
              "  .colab-df-spinner {\n",
              "    border: 2px solid var(--fill-color);\n",
              "    border-color: transparent;\n",
              "    border-bottom-color: var(--fill-color);\n",
              "    animation:\n",
              "      spin 1s steps(1) infinite;\n",
              "  }\n",
              "\n",
              "  @keyframes spin {\n",
              "    0% {\n",
              "      border-color: transparent;\n",
              "      border-bottom-color: var(--fill-color);\n",
              "      border-left-color: var(--fill-color);\n",
              "    }\n",
              "    20% {\n",
              "      border-color: transparent;\n",
              "      border-left-color: var(--fill-color);\n",
              "      border-top-color: var(--fill-color);\n",
              "    }\n",
              "    30% {\n",
              "      border-color: transparent;\n",
              "      border-left-color: var(--fill-color);\n",
              "      border-top-color: var(--fill-color);\n",
              "      border-right-color: var(--fill-color);\n",
              "    }\n",
              "    40% {\n",
              "      border-color: transparent;\n",
              "      border-right-color: var(--fill-color);\n",
              "      border-top-color: var(--fill-color);\n",
              "    }\n",
              "    60% {\n",
              "      border-color: transparent;\n",
              "      border-right-color: var(--fill-color);\n",
              "    }\n",
              "    80% {\n",
              "      border-color: transparent;\n",
              "      border-right-color: var(--fill-color);\n",
              "      border-bottom-color: var(--fill-color);\n",
              "    }\n",
              "    90% {\n",
              "      border-color: transparent;\n",
              "      border-bottom-color: var(--fill-color);\n",
              "    }\n",
              "  }\n",
              "</style>\n",
              "\n",
              "  <script>\n",
              "    async function quickchart(key) {\n",
              "      const quickchartButtonEl =\n",
              "        document.querySelector('#' + key + ' button');\n",
              "      quickchartButtonEl.disabled = true;  // To prevent multiple clicks.\n",
              "      quickchartButtonEl.classList.add('colab-df-spinner');\n",
              "      try {\n",
              "        const charts = await google.colab.kernel.invokeFunction(\n",
              "            'suggestCharts', [key], {});\n",
              "      } catch (error) {\n",
              "        console.error('Error during call to suggestCharts:', error);\n",
              "      }\n",
              "      quickchartButtonEl.classList.remove('colab-df-spinner');\n",
              "      quickchartButtonEl.classList.add('colab-df-quickchart-complete');\n",
              "    }\n",
              "    (() => {\n",
              "      let quickchartButtonEl =\n",
              "        document.querySelector('#df-c5189904-21e0-471e-a0d8-cd2bb630804c button');\n",
              "      quickchartButtonEl.style.display =\n",
              "        google.colab.kernel.accessAllowed ? 'block' : 'none';\n",
              "    })();\n",
              "  </script>\n",
              "</div>\n",
              "\n",
              "  <div id=\"id_30d1e5f8-6b3b-493c-8df7-3158ad112e37\">\n",
              "    <style>\n",
              "      .colab-df-generate {\n",
              "        background-color: #E8F0FE;\n",
              "        border: none;\n",
              "        border-radius: 50%;\n",
              "        cursor: pointer;\n",
              "        display: none;\n",
              "        fill: #1967D2;\n",
              "        height: 32px;\n",
              "        padding: 0 0 0 0;\n",
              "        width: 32px;\n",
              "      }\n",
              "\n",
              "      .colab-df-generate:hover {\n",
              "        background-color: #E2EBFA;\n",
              "        box-shadow: 0px 1px 2px rgba(60, 64, 67, 0.3), 0px 1px 3px 1px rgba(60, 64, 67, 0.15);\n",
              "        fill: #174EA6;\n",
              "      }\n",
              "\n",
              "      [theme=dark] .colab-df-generate {\n",
              "        background-color: #3B4455;\n",
              "        fill: #D2E3FC;\n",
              "      }\n",
              "\n",
              "      [theme=dark] .colab-df-generate:hover {\n",
              "        background-color: #434B5C;\n",
              "        box-shadow: 0px 1px 3px 1px rgba(0, 0, 0, 0.15);\n",
              "        filter: drop-shadow(0px 1px 2px rgba(0, 0, 0, 0.3));\n",
              "        fill: #FFFFFF;\n",
              "      }\n",
              "    </style>\n",
              "    <button class=\"colab-df-generate\" onclick=\"generateWithVariable('shifted_df')\"\n",
              "            title=\"Generate code using this dataframe.\"\n",
              "            style=\"display:none;\">\n",
              "\n",
              "  <svg xmlns=\"http://www.w3.org/2000/svg\" height=\"24px\"viewBox=\"0 0 24 24\"\n",
              "       width=\"24px\">\n",
              "    <path d=\"M7,19H8.4L18.45,9,17,7.55,7,17.6ZM5,21V16.75L18.45,3.32a2,2,0,0,1,2.83,0l1.4,1.43a1.91,1.91,0,0,1,.58,1.4,1.91,1.91,0,0,1-.58,1.4L9.25,21ZM18.45,9,17,7.55Zm-12,3A5.31,5.31,0,0,0,4.9,8.1,5.31,5.31,0,0,0,1,6.5,5.31,5.31,0,0,0,4.9,4.9,5.31,5.31,0,0,0,6.5,1,5.31,5.31,0,0,0,8.1,4.9,5.31,5.31,0,0,0,12,6.5,5.46,5.46,0,0,0,6.5,12Z\"/>\n",
              "  </svg>\n",
              "    </button>\n",
              "    <script>\n",
              "      (() => {\n",
              "      const buttonEl =\n",
              "        document.querySelector('#id_30d1e5f8-6b3b-493c-8df7-3158ad112e37 button.colab-df-generate');\n",
              "      buttonEl.style.display =\n",
              "        google.colab.kernel.accessAllowed ? 'block' : 'none';\n",
              "\n",
              "      buttonEl.onclick = () => {\n",
              "        google.colab.notebook.generateWithVariable('shifted_df');\n",
              "      }\n",
              "      })();\n",
              "    </script>\n",
              "  </div>\n",
              "\n",
              "    </div>\n",
              "  </div>\n"
            ],
            "application/vnd.google.colaboratory.intrinsic+json": {
              "type": "dataframe",
              "variable_name": "shifted_df",
              "summary": "{\n  \"name\": \"shifted_df\",\n  \"rows\": 6509,\n  \"fields\": [\n    {\n      \"column\": \"Date\",\n      \"properties\": {\n        \"dtype\": \"date\",\n        \"min\": \"1997-05-27 00:00:00\",\n        \"max\": \"2023-04-05 00:00:00\",\n        \"num_unique_values\": 6509,\n        \"samples\": [\n          \"2002-06-05 00:00:00\",\n          \"2013-02-07 00:00:00\",\n          \"2014-01-31 00:00:00\"\n        ],\n        \"semantic_type\": \"\",\n        \"description\": \"\"\n      }\n    },\n    {\n      \"column\": \"Close\",\n      \"properties\": {\n        \"dtype\": \"number\",\n        \"std\": 48.07497434062555,\n        \"min\": 0.070833,\n        \"max\": 186.570496,\n        \"num_unique_values\": 5893,\n        \"samples\": [\n          11.3005,\n          88.416496,\n          12.6685\n        ],\n        \"semantic_type\": \"\",\n        \"description\": \"\"\n      }\n    },\n    {\n      \"column\": \"Close(t-1)\",\n      \"properties\": {\n        \"dtype\": \"number\",\n        \"std\": 48.068851324210264,\n        \"min\": 0.070833,\n        \"max\": 186.570496,\n        \"num_unique_values\": 5892,\n        \"samples\": [\n          154.726501,\n          90.943001,\n          3.1215\n        ],\n        \"semantic_type\": \"\",\n        \"description\": \"\"\n      }\n    },\n    {\n      \"column\": \"Close(t-2)\",\n      \"properties\": {\n        \"dtype\": \"number\",\n        \"std\": 48.06207682563746,\n        \"min\": 0.069792,\n        \"max\": 186.570496,\n        \"num_unique_values\": 5892,\n        \"samples\": [\n          157.307007,\n          91.035004,\n          3.2235\n        ],\n        \"semantic_type\": \"\",\n        \"description\": \"\"\n      }\n    },\n    {\n      \"column\": \"Close(t-3)\",\n      \"properties\": {\n        \"dtype\": \"number\",\n        \"std\": 48.05564844925921,\n        \"min\": 0.069792,\n        \"max\": 186.570496,\n        \"num_unique_values\": 5892,\n        \"samples\": [\n          154.6465,\n          90.698997,\n          3.3925\n        ],\n        \"semantic_type\": \"\",\n        \"description\": \"\"\n      }\n    },\n    {\n      \"column\": \"Close(t-4)\",\n      \"properties\": {\n        \"dtype\": \"number\",\n        \"std\": 48.04901242686673,\n        \"min\": 0.069792,\n        \"max\": 186.570496,\n        \"num_unique_values\": 5892,\n        \"samples\": [\n          152.858002,\n          90.709503,\n          3.5435\n        ],\n        \"semantic_type\": \"\",\n        \"description\": \"\"\n      }\n    },\n    {\n      \"column\": \"Close(t-5)\",\n      \"properties\": {\n        \"dtype\": \"number\",\n        \"std\": 48.04266319641631,\n        \"min\": 0.069792,\n        \"max\": 186.570496,\n        \"num_unique_values\": 5892,\n        \"samples\": [\n          157.976501,\n          89.037498,\n          3.5845\n        ],\n        \"semantic_type\": \"\",\n        \"description\": \"\"\n      }\n    },\n    {\n      \"column\": \"Close(t-6)\",\n      \"properties\": {\n        \"dtype\": \"number\",\n        \"std\": 48.03669744551471,\n        \"min\": 0.069792,\n        \"max\": 186.570496,\n        \"num_unique_values\": 5892,\n        \"samples\": [\n          159.725006,\n          88.670998,\n          3.6635\n        ],\n        \"semantic_type\": \"\",\n        \"description\": \"\"\n      }\n    },\n    {\n      \"column\": \"Close(t-7)\",\n      \"properties\": {\n        \"dtype\": \"number\",\n        \"std\": 48.03137216153669,\n        \"min\": 0.069792,\n        \"max\": 186.570496,\n        \"num_unique_values\": 5892,\n        \"samples\": [\n          159.037003,\n          88.285004,\n          3.495\n        ],\n        \"semantic_type\": \"\",\n        \"description\": \"\"\n      }\n    }\n  ]\n}"
            }
          },
          "metadata": {},
          "execution_count": 9
        }
      ]
    },
    {
      "cell_type": "code",
      "source": [
        "shifted_df_as_np = shifted_df.to_numpy()\n",
        "\n",
        "shifted_df_as_np"
      ],
      "metadata": {
        "colab": {
          "base_uri": "https://localhost:8080/"
        },
        "id": "q0jQHuck-b06",
        "outputId": "f9a5ba31-69a3-45c7-e2a2-8f748889c0d8"
      },
      "execution_count": 10,
      "outputs": [
        {
          "output_type": "execute_result",
          "data": {
            "text/plain": [
              "array([[7.91670000e-02, 7.50000000e-02, 6.97920000e-02, ...,\n",
              "        8.54170000e-02, 8.64580000e-02, 9.79170000e-02],\n",
              "       [7.65630000e-02, 7.91670000e-02, 7.50000000e-02, ...,\n",
              "        8.17710000e-02, 8.54170000e-02, 8.64580000e-02],\n",
              "       [7.52600000e-02, 7.65630000e-02, 7.91670000e-02, ...,\n",
              "        7.13540000e-02, 8.17710000e-02, 8.54170000e-02],\n",
              "       ...,\n",
              "       [1.02410004e+02, 1.03290001e+02, 1.02000000e+02, ...,\n",
              "        9.80400010e+01, 9.81299970e+01, 9.87099990e+01],\n",
              "       [1.03949997e+02, 1.02410004e+02, 1.03290001e+02, ...,\n",
              "        9.72399980e+01, 9.80400010e+01, 9.81299970e+01],\n",
              "       [1.01099998e+02, 1.03949997e+02, 1.02410004e+02, ...,\n",
              "        1.00250000e+02, 9.72399980e+01, 9.80400010e+01]])"
            ]
          },
          "metadata": {},
          "execution_count": 10
        }
      ]
    },
    {
      "cell_type": "code",
      "source": [
        "from sklearn.preprocessing import MinMaxScaler\n",
        "\n",
        "scaler = MinMaxScaler(feature_range=(-1,1))\n",
        "shifted_df_as_np = scaler.fit_transform(shifted_df_as_np)\n",
        "shifted_df_as_np"
      ],
      "metadata": {
        "colab": {
          "base_uri": "https://localhost:8080/"
        },
        "id": "XvkTBgD1-Tuz",
        "outputId": "0982c15e-c440-493e-e000-74fa1d1838f1"
      },
      "execution_count": 11,
      "outputs": [
        {
          "output_type": "execute_result",
          "data": {
            "text/plain": [
              "array([[-0.99991063, -0.99995531, -1.        , ..., -0.99983244,\n",
              "        -0.99982128, -0.99969839],\n",
              "       [-0.99993855, -0.99991063, -0.99994415, ..., -0.99987154,\n",
              "        -0.99983244, -0.99982128],\n",
              "       [-0.99995253, -0.99993855, -0.99989946, ..., -0.99998325,\n",
              "        -0.99987154, -0.99983244],\n",
              "       ...,\n",
              "       [ 0.09747299,  0.10690997,  0.09308121, ...,  0.0506149 ,\n",
              "         0.05158   ,  0.05779984],\n",
              "       [ 0.11398769,  0.09747299,  0.10691495, ...,  0.04203581,\n",
              "         0.0506149 ,  0.05158   ],\n",
              "       [ 0.08342464,  0.11398769,  0.09747802, ...,  0.07431453,\n",
              "         0.04203581,  0.0506149 ]])"
            ]
          },
          "metadata": {},
          "execution_count": 11
        }
      ]
    },
    {
      "cell_type": "code",
      "source": [
        "X = shifted_df_as_np[:,1:]\n",
        "y = shifted_df_as_np[:,0]\n",
        "\n",
        "X.shape , y.shape"
      ],
      "metadata": {
        "colab": {
          "base_uri": "https://localhost:8080/"
        },
        "id": "3B_ljDOV_C_K",
        "outputId": "7d626937-2917-48c1-8c33-b368f6d095a4"
      },
      "execution_count": 12,
      "outputs": [
        {
          "output_type": "execute_result",
          "data": {
            "text/plain": [
              "((6509, 7), (6509,))"
            ]
          },
          "metadata": {},
          "execution_count": 12
        }
      ]
    },
    {
      "cell_type": "code",
      "source": [
        "X = dc(np.flip(X, axis=1))\n",
        "X"
      ],
      "metadata": {
        "colab": {
          "base_uri": "https://localhost:8080/"
        },
        "id": "xBsMOkaO_Qi3",
        "outputId": "29b48568-8675-4e7f-89c2-d491c77cce8c"
      },
      "execution_count": 15,
      "outputs": [
        {
          "output_type": "execute_result",
          "data": {
            "text/plain": [
              "array([[-0.99969839, -0.99982128, -0.99983244, ..., -0.99998325,\n",
              "        -1.        , -0.99995531],\n",
              "       [-0.99982128, -0.99983244, -0.99987154, ..., -1.        ,\n",
              "        -0.99994415, -0.99991063],\n",
              "       [-0.99983244, -0.99987154, -0.99998325, ..., -0.99994415,\n",
              "        -0.99989946, -0.99993855],\n",
              "       ...,\n",
              "       [ 0.05779984,  0.05158   ,  0.0506149 , ...,  0.07431453,\n",
              "         0.09308121,  0.10690997],\n",
              "       [ 0.05158   ,  0.0506149 ,  0.04203581, ...,  0.09308121,\n",
              "         0.10691495,  0.09747299],\n",
              "       [ 0.0506149 ,  0.04203581,  0.07431453, ...,  0.10691495,\n",
              "         0.09747802,  0.11398769]])"
            ]
          },
          "metadata": {},
          "execution_count": 15
        }
      ]
    },
    {
      "cell_type": "code",
      "source": [
        "split_index = int(len(X)*0.95)\n",
        "split_index"
      ],
      "metadata": {
        "colab": {
          "base_uri": "https://localhost:8080/"
        },
        "id": "S3_pC7a2_aI6",
        "outputId": "52f1d08a-fc2e-4f77-b1e3-cd518627c8e4"
      },
      "execution_count": 16,
      "outputs": [
        {
          "output_type": "execute_result",
          "data": {
            "text/plain": [
              "6183"
            ]
          },
          "metadata": {},
          "execution_count": 16
        }
      ]
    },
    {
      "cell_type": "code",
      "source": [
        "X_train = X[:split_index]\n",
        "y_train = y[:split_index]\n",
        "\n",
        "X_test = X[split_index:]\n",
        "y_test = y[split_index:]\n",
        "\n",
        "X_train.shape , y_train.shape , X_test.shape , y_test.shape"
      ],
      "metadata": {
        "colab": {
          "base_uri": "https://localhost:8080/"
        },
        "id": "ng4hXQTx_iGj",
        "outputId": "f696e354-9e1d-40ef-df79-bf35b9a9859f"
      },
      "execution_count": 17,
      "outputs": [
        {
          "output_type": "execute_result",
          "data": {
            "text/plain": [
              "((6183, 7), (6183,), (326, 7), (326,))"
            ]
          },
          "metadata": {},
          "execution_count": 17
        }
      ]
    },
    {
      "cell_type": "code",
      "source": [
        "X_train = X_train.reshape((-1,lookback,1))\n",
        "X_test = X_test.reshape((-1,lookback,1))\n",
        "\n",
        "y_train = y_train.reshape((-1,1))\n",
        "y_test = y_test.reshape((-1,1))\n",
        "\n",
        "X_train.shape , y_train.shape , X_test.shape , y_test.shape"
      ],
      "metadata": {
        "colab": {
          "base_uri": "https://localhost:8080/"
        },
        "id": "OaoaWNUn_tL8",
        "outputId": "1f2ca167-ae77-4b17-eccf-f26fd60bef7a"
      },
      "execution_count": 18,
      "outputs": [
        {
          "output_type": "execute_result",
          "data": {
            "text/plain": [
              "((6183, 7, 1), (6183, 1), (326, 7, 1), (326, 1))"
            ]
          },
          "metadata": {},
          "execution_count": 18
        }
      ]
    },
    {
      "cell_type": "code",
      "source": [
        "X_train = torch.tensor(X_train).float()\n",
        "y_train = torch.tensor(y_train).float()\n",
        "\n",
        "X_test = torch.tensor(X_test).float()\n",
        "y_test = torch.tensor(y_test).float()\n",
        "\n",
        "X_train.shape , y_train.shape , X_test.shape , y_test.shape"
      ],
      "metadata": {
        "colab": {
          "base_uri": "https://localhost:8080/"
        },
        "id": "kTsdbj7Q_5Xv",
        "outputId": "641e109a-1963-454d-a762-911433c11d88"
      },
      "execution_count": 19,
      "outputs": [
        {
          "output_type": "execute_result",
          "data": {
            "text/plain": [
              "(torch.Size([6183, 7, 1]),\n",
              " torch.Size([6183, 1]),\n",
              " torch.Size([326, 7, 1]),\n",
              " torch.Size([326, 1]))"
            ]
          },
          "metadata": {},
          "execution_count": 19
        }
      ]
    },
    {
      "cell_type": "code",
      "source": [
        "from torch.utils.data import Dataset\n",
        "\n",
        "\n",
        "class TimeSeriesDataset(Dataset):\n",
        "  def __init__(self,X,y):\n",
        "    self.X = X\n",
        "    self.y = y\n",
        "  def __len__(self):\n",
        "    return len(self.X)\n",
        "  def __getitem__(self,idx):\n",
        "    return self.X[idx],self.y[idx]\n",
        "\n",
        "train_dataset = TimeSeriesDataset(X_train,y_train)\n",
        "test_dataset = TimeSeriesDataset(X_test,y_test)"
      ],
      "metadata": {
        "id": "zXCFmiR_AGl-"
      },
      "execution_count": 21,
      "outputs": []
    },
    {
      "cell_type": "code",
      "source": [
        "train_dataset"
      ],
      "metadata": {
        "colab": {
          "base_uri": "https://localhost:8080/"
        },
        "id": "PA5ICnFIAZdB",
        "outputId": "9cf632a2-419f-4071-b7cf-7c787caed5b4"
      },
      "execution_count": 22,
      "outputs": [
        {
          "output_type": "execute_result",
          "data": {
            "text/plain": [
              "<__main__.TimeSeriesDataset at 0x7c57bc6bac90>"
            ]
          },
          "metadata": {},
          "execution_count": 22
        }
      ]
    },
    {
      "cell_type": "code",
      "source": [
        "from torch.utils.data import DataLoader\n",
        "batch_size = 16\n",
        "\n",
        "train_loader = DataLoader(train_dataset,batch_size=batch_size,shuffle=True)\n",
        "test_loader = DataLoader(test_dataset,batch_size=batch_size,shuffle=False)"
      ],
      "metadata": {
        "id": "Ykxn_MtMAmEe"
      },
      "execution_count": 23,
      "outputs": []
    },
    {
      "cell_type": "code",
      "source": [
        "for _,batch in enumerate(train_loader):\n",
        "  x_batch, y_batch = batch[0].to(device), batch[1].to(device)\n",
        "  print(x_batch.shape, y_batch.shape)\n",
        "  break\n",
        ""
      ],
      "metadata": {
        "colab": {
          "base_uri": "https://localhost:8080/"
        },
        "id": "5DnuR8QTAx7X",
        "outputId": "8780aaf7-9872-4b99-ebb5-c26d88d0810f"
      },
      "execution_count": 24,
      "outputs": [
        {
          "output_type": "stream",
          "name": "stdout",
          "text": [
            "torch.Size([16, 7, 1]) torch.Size([16, 1])\n"
          ]
        }
      ]
    },
    {
      "cell_type": "code",
      "source": [
        "class LSTM(nn.Module):\n",
        "    def __init__(self, input_size, hidden_size, num_stacked_layers):\n",
        "        super().__init__()\n",
        "        self.hidden_size = hidden_size\n",
        "        self.num_stacked_layers = num_stacked_layers\n",
        "\n",
        "        self.lstm = nn.LSTM(input_size, hidden_size, num_stacked_layers,\n",
        "                            batch_first=True)\n",
        "\n",
        "        self.fc = nn.Linear(hidden_size, 1)\n",
        "\n",
        "    def forward(self, x):\n",
        "        batch_size = x.size(0)\n",
        "        h0 = torch.zeros(self.num_stacked_layers, batch_size, self.hidden_size).to(device)\n",
        "        c0 = torch.zeros(self.num_stacked_layers, batch_size, self.hidden_size).to(device)\n",
        "\n",
        "        out, _ = self.lstm(x, (h0, c0))\n",
        "        out = self.fc(out[:, -1, :])\n",
        "        return out\n",
        "\n",
        "model = LSTM(1, 4, 1)\n",
        "model.to(device)\n",
        "model"
      ],
      "metadata": {
        "colab": {
          "base_uri": "https://localhost:8080/"
        },
        "id": "6kCasm0uBGtQ",
        "outputId": "4c1f024c-5813-4140-b80a-ee5c3b503b9c"
      },
      "execution_count": 37,
      "outputs": [
        {
          "output_type": "execute_result",
          "data": {
            "text/plain": [
              "LSTM(\n",
              "  (lstm): LSTM(1, 4, batch_first=True)\n",
              "  (fc): Linear(in_features=4, out_features=1, bias=True)\n",
              ")"
            ]
          },
          "metadata": {},
          "execution_count": 37
        }
      ]
    },
    {
      "cell_type": "code",
      "source": [
        "def train_one_epoch():\n",
        "    model.train(True)\n",
        "    print(f'Epoch: {epoch + 1}')\n",
        "    running_loss = 0.0\n",
        "\n",
        "    for batch_index, batch in enumerate(train_loader):\n",
        "        x_batch, y_batch = batch[0].to(device), batch[1].to(device)\n",
        "\n",
        "        output = model(x_batch)\n",
        "        loss = loss_function(output, y_batch)\n",
        "        running_loss += loss.item()\n",
        "\n",
        "        optimizer.zero_grad()\n",
        "        loss.backward()\n",
        "        optimizer.step()\n",
        "\n",
        "        if batch_index % 100 == 99:  # print every 100 batches\n",
        "            avg_loss_across_batches = running_loss / 100\n",
        "            print('Batch {0}, Loss: {1:.3f}'.format(batch_index+1,\n",
        "                                                    avg_loss_across_batches))\n",
        "            running_loss = 0.0\n",
        "    print()"
      ],
      "metadata": {
        "id": "2W41fuj2CqMl"
      },
      "execution_count": 38,
      "outputs": []
    },
    {
      "cell_type": "code",
      "source": [
        "def validate_one_epoch():\n",
        "    model.train(False)\n",
        "    running_loss = 0.0\n",
        "\n",
        "    for batch_index, batch in enumerate(test_loader):\n",
        "        x_batch, y_batch = batch[0].to(device), batch[1].to(device)\n",
        "\n",
        "        with torch.no_grad():\n",
        "            output = model(x_batch)\n",
        "            loss = loss_function(output, y_batch)\n",
        "            running_loss += loss.item()\n",
        "\n",
        "    avg_loss_across_batches = running_loss / len(test_loader)\n",
        "\n",
        "    print('Val Loss: {0:.3f}'.format(avg_loss_across_batches))\n",
        "    print('***************************************************')\n",
        "    print()"
      ],
      "metadata": {
        "id": "s2fYISGrDiy_"
      },
      "execution_count": 39,
      "outputs": []
    },
    {
      "cell_type": "code",
      "source": [
        "learning_rate = 0.001\n",
        "num_epochs = 10\n",
        "loss_function = nn.MSELoss()\n",
        "optimizer = torch.optim.Adam(model.parameters(), lr=learning_rate)\n",
        "\n",
        "for epoch in range(num_epochs):\n",
        "    train_one_epoch()\n",
        "    validate_one_epoch()"
      ],
      "metadata": {
        "colab": {
          "base_uri": "https://localhost:8080/"
        },
        "id": "MR-mQc77CNSB",
        "outputId": "4744c3f4-fd86-4870-85a0-d653c523fbba"
      },
      "execution_count": 40,
      "outputs": [
        {
          "output_type": "stream",
          "name": "stdout",
          "text": [
            "Epoch: 1\n",
            "Batch 100, Loss: 0.276\n",
            "Batch 200, Loss: 0.108\n",
            "Batch 300, Loss: 0.025\n",
            "\n",
            "Val Loss: 0.021\n",
            "***************************************************\n",
            "\n",
            "Epoch: 2\n",
            "Batch 100, Loss: 0.006\n",
            "Batch 200, Loss: 0.004\n",
            "Batch 300, Loss: 0.003\n",
            "\n",
            "Val Loss: 0.010\n",
            "***************************************************\n",
            "\n",
            "Epoch: 3\n",
            "Batch 100, Loss: 0.002\n",
            "Batch 200, Loss: 0.002\n",
            "Batch 300, Loss: 0.002\n",
            "\n",
            "Val Loss: 0.009\n",
            "***************************************************\n",
            "\n",
            "Epoch: 4\n",
            "Batch 100, Loss: 0.001\n",
            "Batch 200, Loss: 0.001\n",
            "Batch 300, Loss: 0.001\n",
            "\n",
            "Val Loss: 0.004\n",
            "***************************************************\n",
            "\n",
            "Epoch: 5\n",
            "Batch 100, Loss: 0.001\n",
            "Batch 200, Loss: 0.001\n",
            "Batch 300, Loss: 0.000\n",
            "\n",
            "Val Loss: 0.004\n",
            "***************************************************\n",
            "\n",
            "Epoch: 6\n",
            "Batch 100, Loss: 0.000\n",
            "Batch 200, Loss: 0.000\n",
            "Batch 300, Loss: 0.000\n",
            "\n",
            "Val Loss: 0.003\n",
            "***************************************************\n",
            "\n",
            "Epoch: 7\n",
            "Batch 100, Loss: 0.000\n",
            "Batch 200, Loss: 0.000\n",
            "Batch 300, Loss: 0.000\n",
            "\n",
            "Val Loss: 0.003\n",
            "***************************************************\n",
            "\n",
            "Epoch: 8\n",
            "Batch 100, Loss: 0.000\n",
            "Batch 200, Loss: 0.000\n",
            "Batch 300, Loss: 0.000\n",
            "\n",
            "Val Loss: 0.003\n",
            "***************************************************\n",
            "\n",
            "Epoch: 9\n",
            "Batch 100, Loss: 0.000\n",
            "Batch 200, Loss: 0.000\n",
            "Batch 300, Loss: 0.000\n",
            "\n",
            "Val Loss: 0.003\n",
            "***************************************************\n",
            "\n",
            "Epoch: 10\n",
            "Batch 100, Loss: 0.000\n",
            "Batch 200, Loss: 0.000\n",
            "Batch 300, Loss: 0.000\n",
            "\n",
            "Val Loss: 0.003\n",
            "***************************************************\n",
            "\n"
          ]
        }
      ]
    },
    {
      "cell_type": "code",
      "source": [
        "with torch.no_grad():\n",
        "    predicted = model(X_train.to(device)).to('cpu').numpy()\n",
        "\n",
        "plt.plot(y_train, label='Actual Close')\n",
        "plt.plot(predicted, label='Predicted Close')\n",
        "plt.xlabel('Day')\n",
        "plt.ylabel('Close')\n",
        "plt.legend()\n",
        "plt.show()\n"
      ],
      "metadata": {
        "colab": {
          "base_uri": "https://localhost:8080/",
          "height": 449
        },
        "id": "N4MBCBH5EGib",
        "outputId": "4f7c83fd-99fd-4df3-c6ef-a31b274c7907"
      },
      "execution_count": 41,
      "outputs": [
        {
          "output_type": "display_data",
          "data": {
            "text/plain": [
              "<Figure size 640x480 with 1 Axes>"
            ],
            "image/png": "[encoded data removed]"
          },
          "metadata": {}
        }
      ]
    },
    {
      "cell_type": "code",
      "source": [
        "train_predictions = predicted.flatten()\n",
        "\n",
        "dummies = np.zeros((X_train.shape[0], lookback+1))\n",
        "dummies[:, 0] = train_predictions\n",
        "dummies = scaler.inverse_transform(dummies)\n",
        "\n",
        "train_predictions = dc(dummies[:, 0])\n",
        "train_predictions"
      ],
      "metadata": {
        "colab": {
          "base_uri": "https://localhost:8080/"
        },
        "id": "6uWm92qmFD0k",
        "outputId": "057c8ea6-4d8c-44d4-9c76-8daf2b021474"
      },
      "execution_count": 42,
      "outputs": [
        {
          "output_type": "execute_result",
          "data": {
            "text/plain": [
              "array([  0.4307048 ,   0.43054917,   0.42999336, ..., 171.87566896,\n",
              "       171.11282769, 171.82092145])"
            ]
          },
          "metadata": {},
          "execution_count": 42
        }
      ]
    },
    {
      "cell_type": "code",
      "source": [
        "dummies = np.zeros((X_train.shape[0], lookback+1))\n",
        "dummies[:, 0] = y_train.flatten()\n",
        "dummies = scaler.inverse_transform(dummies)\n",
        "\n",
        "new_y_train = dc(dummies[:, 0])\n",
        "new_y_train"
      ],
      "metadata": {
        "colab": {
          "base_uri": "https://localhost:8080/"
        },
        "id": "w180bUsmFNTD",
        "outputId": "70d214bc-5c8f-4f28-a408-5c3a3989c39c"
      },
      "execution_count": 43,
      "outputs": [
        {
          "output_type": "stream",
          "name": "stderr",
          "text": [
            "<ipython-input-43-2b76640e40df>:2: DeprecationWarning: __array__ implementation doesn't accept a copy keyword, so passing copy=False failed. __array__ must implement 'dtype' and 'copy' keyword arguments.\n",
            "  dummies[:, 0] = y_train.flatten()\n"
          ]
        },
        {
          "output_type": "execute_result",
          "data": {
            "text/plain": [
              "array([7.91646265e-02, 7.65634249e-02, 7.52572660e-02, ...,\n",
              "       1.69091505e+02, 1.73315001e+02, 1.68871003e+02])"
            ]
          },
          "metadata": {},
          "execution_count": 43
        }
      ]
    },
    {
      "cell_type": "code",
      "source": [
        "plt.plot(new_y_train, label='Actual Close')\n",
        "plt.plot(train_predictions, label='Predicted Close')\n",
        "plt.xlabel('Day')\n",
        "plt.ylabel('Close')\n",
        "plt.legend()\n",
        "plt.show()\n"
      ],
      "metadata": {
        "colab": {
          "base_uri": "https://localhost:8080/",
          "height": 449
        },
        "id": "QOHH1CUJFQqk",
        "outputId": "bc5c8e30-a0f9-4aa7-8c75-c5331d634623"
      },
      "execution_count": 44,
      "outputs": [
        {
          "output_type": "display_data",
          "data": {
            "text/plain": [
              "<Figure size 640x480 with 1 Axes>"
            ],
            "image/png": "[encoded data removed]"
          },
          "metadata": {}
        }
      ]
    },
    {
      "cell_type": "code",
      "source": [
        "test_predictions = model(X_test.to(device)).detach().cpu().numpy().flatten()\n",
        "\n",
        "dummies = np.zeros((X_test.shape[0], lookback+1))\n",
        "dummies[:, 0] = test_predictions\n",
        "dummies = scaler.inverse_transform(dummies)\n",
        "\n",
        "test_predictions = dc(dummies[:, 0])\n",
        "test_predictions"
      ],
      "metadata": {
        "colab": {
          "base_uri": "https://localhost:8080/"
        },
        "id": "oc5irj1EFTKg",
        "outputId": "465da56c-2b41-4ef2-c977-609750542181"
      },
      "execution_count": 45,
      "outputs": [
        {
          "output_type": "execute_result",
          "data": {
            "text/plain": [
              "array([170.79371361, 170.61045117, 169.58971299, 170.04427852,\n",
              "       170.44649766, 170.70976372, 170.43492565, 170.64506717,\n",
              "       170.29877386, 169.96753196, 169.12945593, 169.75562296,\n",
              "       169.17043041, 167.90216677, 166.7865681 , 165.85112487,\n",
              "       164.89161496, 165.59182175, 165.85359823, 164.77393282,\n",
              "       164.53955233, 163.26232344, 161.59542009, 158.87988234,\n",
              "       153.6891901 , 151.23117687, 147.69489887, 145.07658936,\n",
              "       143.8282905 , 144.94848574, 147.95690323, 150.44505261,\n",
              "       151.76876965, 147.91536738, 153.30871434, 156.10103757,\n",
              "       159.10803218, 160.80552187, 161.13887586, 159.36581793,\n",
              "       159.08090298, 159.07777931, 159.59583529, 158.62009011,\n",
              "       157.36524378, 155.72388001, 152.65713558, 153.34027337,\n",
              "       154.48679188, 155.09939709, 154.6637514 , 154.84843672,\n",
              "       153.33896721, 151.60046968, 147.07523484, 143.70156529,\n",
              "       142.94841183, 145.60835723, 146.58272956, 145.84873494,\n",
              "       147.84575745, 151.26224122, 154.80318248, 158.3480311 ,\n",
              "       160.49928597, 163.03623567, 164.04161676, 164.73366422,\n",
              "       165.45873805, 167.18970988, 168.23323082, 167.96455115,\n",
              "       166.79280431, 166.29443521, 167.45334833, 166.66796331,\n",
              "       164.49812208, 162.87610058, 160.6597601 , 158.06990262,\n",
              "       156.29658901, 156.8944374 , 155.77935564, 155.68780223,\n",
              "       157.61977247, 157.22265569, 154.97684048, 152.09886658,\n",
              "       150.93366165, 147.37993115, 144.7383609 , 145.76581886,\n",
              "       137.51095004, 132.98942247, 129.97604158, 128.88907835,\n",
              "       123.84618216, 120.35257943, 115.48960664, 112.89549164,\n",
              "       109.70533742, 108.7104723 , 111.06496827, 111.34656224,\n",
              "       113.82963983, 111.27874758, 110.07702023, 109.41964712,\n",
              "       108.9705202 , 107.07060922, 107.34106749, 109.49134968,\n",
              "       112.63588283, 116.83319257, 119.91249837, 123.50704217,\n",
              "       124.0139819 , 125.47140514, 125.35008243, 124.4101927 ,\n",
              "       121.46790576, 116.71772812, 111.17414926, 107.39362232,\n",
              "       107.73437973, 105.98439912, 106.40725835, 107.84801278,\n",
              "       108.8274291 , 111.07775473, 114.21310586, 114.41902598,\n",
              "       111.8449369 , 111.12511828, 109.29976118, 109.86197923,\n",
              "       111.97712297, 113.57918525, 115.52827172, 116.26714915,\n",
              "       114.90240761, 112.93592977, 112.32517541, 112.00351293,\n",
              "       113.21050661, 113.98612323, 116.61024097, 120.23567543,\n",
              "       123.15850894, 123.81204417, 123.62181185, 120.48226712,\n",
              "       121.58876159, 122.6220389 , 129.12810543, 132.93493063,\n",
              "       134.76970597, 138.30391634, 141.56960823, 142.65398137,\n",
              "       142.72650932, 142.01576989, 143.65615543, 143.63126615,\n",
              "       144.88254417, 145.41684654, 146.46374682, 145.96194279,\n",
              "       145.80134638, 143.90928347, 140.64413072, 138.83154341,\n",
              "       137.73171869, 138.59332781, 136.19610933, 134.5165946 ,\n",
              "       133.04330291, 131.27759837, 130.71579441, 130.20830998,\n",
              "       129.29305941, 130.39104439, 131.14027938, 133.19455056,\n",
              "       135.80115466, 132.98320293, 132.29067191, 130.69276155,\n",
              "       128.4472298 , 127.64776605, 125.97031894, 123.35043649,\n",
              "       121.34426531, 118.495705  , 117.55523723, 116.6308366 ,\n",
              "       117.85427536, 117.02998348, 115.82867716, 116.52838371,\n",
              "       119.32829516, 120.80416582, 121.41734907, 119.08911801,\n",
              "       117.3934625 , 115.63753886, 114.91346272, 114.28781259,\n",
              "       111.309245  , 113.00966105, 115.07449266, 115.67213262,\n",
              "       116.18116777, 118.40423497, 119.84044842, 121.03699004,\n",
              "       119.36422843, 116.24130666, 110.87307407, 107.37991043,\n",
              "       102.66257297,  97.93112065,  94.06179158,  92.73390317,\n",
              "        91.78958918,  91.09806696,  89.01982638,  92.79046263,\n",
              "        96.70619091,  97.86972006,  98.83113918,  98.47963236,\n",
              "        97.19659523,  96.10775892,  94.66557605,  94.21308786,\n",
              "        94.38294827,  94.15471228,  94.32448376,  93.71495219,\n",
              "        95.31980048,  95.66119152,  95.26057034,  93.60918111,\n",
              "        91.44584567,  90.3330997 ,  90.53446633,  90.03779245,\n",
              "        90.49776048,  91.65461433,  91.88644503,  90.61126153,\n",
              "        89.66256495,  87.7599958 ,  86.84423249,  87.00846808,\n",
              "        85.73086262,  85.76004277,  84.75811813,  83.69926303,\n",
              "        84.17751382,  84.31258594,  85.23877072,  85.44677931,\n",
              "        84.6808769 ,  85.62457811,  86.66417709,  88.38893633,\n",
              "        91.75986989,  93.69498047,  96.16073339,  96.51226105,\n",
              "        96.44081277,  95.51866457,  96.64065647,  97.30095455,\n",
              "        97.13461799,  97.47923274,  98.61429735, 100.64345414,\n",
              "       100.95244966, 102.39241762, 104.10554509, 108.73639816,\n",
              "       106.71216864, 105.18599698, 104.20860659, 102.61630159,\n",
              "       100.86773553,  99.6025622 ,  99.80747352, 100.01064516,\n",
              "       100.84872952,  99.9117856 ,  99.01194771,  97.27042934,\n",
              "        96.87045568,  96.6089321 ,  95.39983468,  94.90136969,\n",
              "        94.83969398,  93.85188628,  93.32524995,  94.30211926,\n",
              "        94.28031197,  94.22836297,  94.37506824,  93.67458216,\n",
              "        92.60479075,  92.79121993,  93.9845156 ,  95.25609883,\n",
              "        97.79147281,  98.67735425,  98.6393617 ,  99.97000138,\n",
              "        99.72523276,  99.61395357,  99.2509998 ,  99.00187083,\n",
              "        98.48367868,  99.61336997, 101.02464134, 102.44157366,\n",
              "       102.83240698, 103.80461441])"
            ]
          },
          "metadata": {},
          "execution_count": 45
        }
      ]
    },
    {
      "cell_type": "code",
      "source": [
        "dummies = np.zeros((X_test.shape[0], lookback+1))\n",
        "dummies[:, 0] = y_test.flatten()\n",
        "dummies = scaler.inverse_transform(dummies)\n",
        "\n",
        "new_y_test = dc(dummies[:, 0])\n",
        "new_y_test"
      ],
      "metadata": {
        "colab": {
          "base_uri": "https://localhost:8080/"
        },
        "id": "R9IRGBr9FWbd",
        "outputId": "48a58cc2-2e9f-481b-f078-9e1785919be4"
      },
      "execution_count": 46,
      "outputs": [
        {
          "output_type": "stream",
          "name": "stderr",
          "text": [
            "<ipython-input-46-de35d29ffb5f>:2: DeprecationWarning: __array__ implementation doesn't accept a copy keyword, so passing copy=False failed. __array__ must implement 'dtype' and 'copy' keyword arguments.\n",
            "  dummies[:, 0] = y_test.flatten()\n"
          ]
        },
        {
          "output_type": "execute_result",
          "data": {
            "text/plain": [
              "array([170.01749949, 167.07899763, 170.41700626, 171.03700377,\n",
              "       171.0684961 , 169.66949429, 170.66099675, 169.20100565,\n",
              "       168.64449858, 166.71699707, 170.40449492, 167.52200227,\n",
              "       164.35699578, 163.25399737, 162.55400179, 161.48599177,\n",
              "       165.36199892, 165.20699954, 161.21400501, 162.13799851,\n",
              "       158.91749416, 156.29899568, 151.66749509, 142.64300408,\n",
              "       144.54400445, 139.98599336, 138.87249844, 139.63749627,\n",
              "       143.97799855, 149.57350001, 151.19349835, 150.61250219,\n",
              "       138.84550541, 157.63949825, 157.93550165, 161.41349717,\n",
              "       161.18949925, 159.003495  , 153.29350176, 155.1670061 ,\n",
              "       156.51049894, 158.10049453, 154.6524962 , 152.60149876,\n",
              "       150.19749381, 144.82699629, 151.35800212, 153.78849709,\n",
              "       153.56300403, 151.14199678, 152.05250627, 147.89849848,\n",
              "       145.64100565, 137.45300383, 136.01449488, 139.27900567,\n",
              "       146.81750468, 145.52450739, 141.8529947 , 147.36650272,\n",
              "       153.10400311, 157.23899657, 161.25050521, 161.49149987,\n",
              "       164.8890082 , 163.4080074 , 163.64950785, 164.77349929,\n",
              "       168.99049174, 169.31500275, 166.30099379, 162.99749555,\n",
              "       163.55999984, 168.34649425, 164.05499516, 158.75599734,\n",
              "       157.78449856, 154.4604964 , 151.1219931 , 150.78750525,\n",
              "       155.54100108, 151.70649644, 152.78500575, 158.11549591,\n",
              "       153.99799942, 148.29600432, 144.35000372, 146.07400567,\n",
              "       139.39100462, 138.16700588, 144.59649537, 124.2815027 ,\n",
              "       124.50000086, 124.25350088, 125.92849685, 116.40699847,\n",
              "       114.77249899, 108.78900163, 108.85900063, 105.37200234,\n",
              "       106.93049589, 113.05500005, 110.81050072, 115.36850069,\n",
              "       107.11250358, 107.31900035, 107.59100239, 107.55699918,\n",
              "       104.09999809, 106.77500184, 111.07749906, 115.14649953,\n",
              "       120.20950223, 121.68399725, 125.51100121, 122.34999935,\n",
              "       124.79000149, 122.99999961, 121.18000054, 116.15000198,\n",
              "       109.65000214, 103.66999806, 102.30999829, 107.6699986 ,\n",
              "       103.66000386, 106.22000101, 108.67999989, 108.94999683,\n",
              "       112.44000207, 116.45999935, 113.22000127, 107.40000166,\n",
              "       108.91999825, 106.20999917, 109.55999806, 113.50000006,\n",
              "       114.33000152, 116.3300018 , 115.54000075, 111.74999999,\n",
              "       109.22000073, 110.40000137, 110.62999651, 113.55000232,\n",
              "       113.76000211, 118.20999802, 122.76999614, 124.62999702,\n",
              "       122.41999835, 121.13999873, 114.80999825, 120.97000076,\n",
              "       122.28000035, 134.94999758, 135.38999806, 134.16000488,\n",
              "       139.5200031 , 142.57000925, 140.80000272, 139.41000507,\n",
              "       137.83000298, 142.69000357, 140.64000103, 143.55000084,\n",
              "       143.17999102, 144.7799968 , 142.10000324, 142.30000119,\n",
              "       138.22999608, 133.22000121, 133.61999431, 133.80000247,\n",
              "       137.27999891, 130.7499991 , 129.78999174, 128.72999653,\n",
              "       126.76999668, 127.82000117, 127.51000241, 126.11000014,\n",
              "       129.47999576, 129.82000839, 133.27000486, 136.44999605,\n",
              "       126.82000034, 128.55000227, 126.27999811, 123.52999999,\n",
              "       124.66000532, 122.19000322, 118.54000046, 117.30999894,\n",
              "       113.77999884, 115.15000254, 114.41000376, 118.01000286,\n",
              "       114.80000336, 112.99999964, 115.8799967 , 121.08999508,\n",
              "       120.94999707, 120.30000237, 114.55999805, 113.66999803,\n",
              "       112.2099986 , 112.90000206, 112.5299992 , 106.90000263,\n",
              "       113.79000069, 116.36000038, 115.0700003 , 115.25000012,\n",
              "       119.31999967, 119.82000008, 120.59999928, 115.66000341,\n",
              "       110.95999895, 103.41000365, 102.4400021 ,  96.79000116,\n",
              "        92.12000301,  89.30000302,  90.98000304,  90.52999899,\n",
              "        89.98000291,  86.13999884,  96.62999704, 100.79000101,\n",
              "        98.48999791,  98.94000197,  97.1200029 ,  94.84999805,\n",
              "        94.13999897,  92.45999904,  93.199997  ,  94.12999696,\n",
              "        93.410004  ,  93.94999701,  92.41999801,  96.54000095,\n",
              "        95.50000004,  94.12999696,  91.01000197,  88.24999993,\n",
              "        88.45999902,  90.34999813,  89.08999594,  90.55000302,\n",
              "        92.48999797,  91.58000208,  88.44999683,  87.86000102,\n",
              "        84.91999777,  85.19000167,  86.76999681,  83.79000078,\n",
              "        85.25000022,  83.04000085,  81.81999979,  84.17999969,\n",
              "        83.99999987,  85.82000033,  85.13999871,  83.12000309,\n",
              "        86.08000168,  87.3600013 ,  89.87000314,  95.08999606,\n",
              "        95.26999692,  98.12000304,  96.05000307,  95.45999893,\n",
              "        93.68      ,  97.25000011,  97.51999705,  96.32000002,\n",
              "        97.18000006,  99.22000076, 102.2399979 , 100.55000334,\n",
              "       103.12999722, 105.15000257, 112.9100039 , 103.38999927,\n",
              "       102.18000005, 102.11000105, 100.05000292,  98.23999805,\n",
              "        97.61000113,  99.54000066,  99.69999679, 101.16000387,\n",
              "        98.15000197,  97.19999715,  94.58000197,  95.79000102,\n",
              "        95.81999995,  93.5       ,  93.760002  ,  94.23000296,\n",
              "        92.16999798,  92.12999703,  94.90000205,  93.74999998,\n",
              "        93.55000299,  93.919998  ,  92.25000004,  90.73000301,\n",
              "        92.43000003,  94.87999697,  96.19999701, 100.04000108,\n",
              "        98.94999687,  97.70999906, 100.61000119,  98.69999701,\n",
              "        98.70999885,  98.12999689,  98.04000115,  97.23999792,\n",
              "       100.25000017, 102.00000023, 103.290001  , 102.41000421,\n",
              "       103.94999685, 101.09999768])"
            ]
          },
          "metadata": {},
          "execution_count": 46
        }
      ]
    },
    {
      "cell_type": "code",
      "source": [
        "plt.plot(new_y_test, label='Actual Close')\n",
        "plt.plot(test_predictions, label='Predicted Close')\n",
        "plt.xlabel('Day')\n",
        "plt.ylabel('Close')\n",
        "plt.legend()\n",
        "plt.show()\n"
      ],
      "metadata": {
        "colab": {
          "base_uri": "https://localhost:8080/",
          "height": 449
        },
        "id": "gXaErXOoFYRg",
        "outputId": "4206d3b0-9499-4ac9-9183-acddeabfb3a7"
      },
      "execution_count": 47,
      "outputs": [
        {
          "output_type": "display_data",
          "data": {
            "text/plain": [
              "<Figure size 640x480 with 1 Axes>"
            ],
            "image/png": "[encoded data removed]"
          },
          "metadata": {}
        }
      ]
    },
    {
      "cell_type": "code",
      "source": [],
      "metadata": {
        "id": "W1UikKAHFZ4m"
      },
      "execution_count": null,
      "outputs": []
    }
  ]
}