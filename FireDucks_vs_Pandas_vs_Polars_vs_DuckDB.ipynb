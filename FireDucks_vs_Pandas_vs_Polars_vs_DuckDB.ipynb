{
  "cells": [
    {
      "cell_type": "markdown",
      "metadata": {
        "id": "view-in-github",
        "colab_type": "text"
      },
      "source": [
        "<a href=\"https://colab.research.google.com/github/saketh1305/Pytorch_DL/blob/main/FireDucks_vs_Pandas_vs_Polars_vs_DuckDB.ipynb\" target=\"_parent\"><img src=\"https://colab.research.google.com/assets/colab-badge.svg\" alt=\"Open In Colab\"/></a>"
      ]
    },
    {
      "cell_type": "code",
      "execution_count": 1,
      "metadata": {
        "id": "FqF2aCCPUShb",
        "colab": {
          "base_uri": "https://localhost:8080/"
        },
        "outputId": "2090485d-3a03-4191-ea58-28266273dc4d"
      },
      "outputs": [
        {
          "output_type": "stream",
          "name": "stdout",
          "text": [
            "Collecting fireducks\n",
            "  Downloading fireducks-1.2.6-cp311-cp311-manylinux_2_28_x86_64.whl.metadata (1.0 kB)\n",
            "Collecting firefw==1.2.6 (from fireducks)\n",
            "  Downloading firefw-1.2.6-py3-none-any.whl.metadata (818 bytes)\n",
            "Requirement already satisfied: pandas<2.3.0,>=1.5.3 in /usr/local/lib/python3.11/dist-packages (from fireducks) (2.2.2)\n",
            "Requirement already satisfied: pyarrow<19.1,>=19.0 in /usr/local/lib/python3.11/dist-packages (from fireducks) (19.0.1)\n",
            "Requirement already satisfied: numpy>=1.23.2 in /usr/local/lib/python3.11/dist-packages (from pandas<2.3.0,>=1.5.3->fireducks) (2.0.2)\n",
            "Requirement already satisfied: python-dateutil>=2.8.2 in /usr/local/lib/python3.11/dist-packages (from pandas<2.3.0,>=1.5.3->fireducks) (2.9.0.post0)\n",
            "Requirement already satisfied: pytz>=2020.1 in /usr/local/lib/python3.11/dist-packages (from pandas<2.3.0,>=1.5.3->fireducks) (2025.2)\n",
            "Requirement already satisfied: tzdata>=2022.7 in /usr/local/lib/python3.11/dist-packages (from pandas<2.3.0,>=1.5.3->fireducks) (2025.2)\n",
            "Requirement already satisfied: six>=1.5 in /usr/local/lib/python3.11/dist-packages (from python-dateutil>=2.8.2->pandas<2.3.0,>=1.5.3->fireducks) (1.17.0)\n",
            "Downloading fireducks-1.2.6-cp311-cp311-manylinux_2_28_x86_64.whl (7.4 MB)\n",
            "\u001b[2K   \u001b[90m━━━━━━━━━━━━━━━━━━━━━━━━━━━━━━━━━━━━━━━━\u001b[0m \u001b[32m7.4/7.4 MB\u001b[0m \u001b[31m31.7 MB/s\u001b[0m eta \u001b[36m0:00:00\u001b[0m\n",
            "\u001b[?25hDownloading firefw-1.2.6-py3-none-any.whl (12 kB)\n",
            "Installing collected packages: firefw, fireducks\n",
            "Successfully installed fireducks-1.2.6 firefw-1.2.6\n"
          ]
        }
      ],
      "source": [
        "!pip install fireducks"
      ]
    },
    {
      "cell_type": "code",
      "source": [
        "!pip install polars"
      ],
      "metadata": {
        "id": "tQG0Wm3e3jqH",
        "colab": {
          "base_uri": "https://localhost:8080/"
        },
        "outputId": "013d07a2-cfd3-44cf-e855-a5f92cec8d27"
      },
      "execution_count": 2,
      "outputs": [
        {
          "output_type": "stream",
          "name": "stdout",
          "text": [
            "Collecting polars\n",
            "  Downloading polars-1.27.1-cp39-abi3-manylinux_2_17_x86_64.manylinux2014_x86_64.whl.metadata (14 kB)\n",
            "Downloading polars-1.27.1-cp39-abi3-manylinux_2_17_x86_64.manylinux2014_x86_64.whl (35.4 MB)\n",
            "\u001b[2K   \u001b[90m━━━━━━━━━━━━━━━━━━━━━━━━━━━━━━━━━━━━━━━━\u001b[0m \u001b[32m35.4/35.4 MB\u001b[0m \u001b[31m38.4 MB/s\u001b[0m eta \u001b[36m0:00:00\u001b[0m\n",
            "\u001b[?25hInstalling collected packages: polars\n",
            "Successfully installed polars-1.27.1\n"
          ]
        }
      ]
    },
    {
      "cell_type": "code",
      "source": [
        "!pip install duckdb"
      ],
      "metadata": {
        "id": "-mo7xjGr6Fo9",
        "colab": {
          "base_uri": "https://localhost:8080/"
        },
        "outputId": "857154f6-6cce-4de6-dd2c-11235b6dba34"
      },
      "execution_count": 3,
      "outputs": [
        {
          "output_type": "stream",
          "name": "stdout",
          "text": [
            "Collecting duckdb\n",
            "  Downloading duckdb-1.2.2-cp311-cp311-manylinux_2_17_x86_64.manylinux2014_x86_64.whl.metadata (966 bytes)\n",
            "Downloading duckdb-1.2.2-cp311-cp311-manylinux_2_17_x86_64.manylinux2014_x86_64.whl (20.2 MB)\n",
            "\u001b[2K   \u001b[90m━━━━━━━━━━━━━━━━━━━━━━━━━━━━━━━━━━━━━━━━\u001b[0m \u001b[32m20.2/20.2 MB\u001b[0m \u001b[31m90.0 MB/s\u001b[0m eta \u001b[36m0:00:00\u001b[0m\n",
            "\u001b[?25hInstalling collected packages: duckdb\n",
            "Successfully installed duckdb-1.2.2\n"
          ]
        }
      ]
    },
    {
      "cell_type": "code",
      "execution_count": 1,
      "metadata": {
        "id": "3roUn9XiUE8G",
        "colab": {
          "base_uri": "https://localhost:8080/"
        },
        "outputId": "93383cba-b532-4ca5-a9d4-8f5169d9e536"
      },
      "outputs": [
        {
          "output_type": "execute_result",
          "data": {
            "text/plain": [
              "('taxi.csv', <http.client.HTTPMessage at 0x7a9610332ad0>)"
            ]
          },
          "metadata": {},
          "execution_count": 1
        }
      ],
      "source": [
        "# download the dataset:\n",
        "\n",
        "import urllib.request\n",
        "s3_path = \"https://modin-datasets.s3.amazonaws.com/testing/yellow_tripdata_2015-01.csv\"\n",
        "urllib.request.urlretrieve(s3_path, \"taxi.csv\")"
      ]
    },
    {
      "cell_type": "markdown",
      "source": [
        "# FireDucks"
      ],
      "metadata": {
        "id": "lvwoJMg82ubd"
      }
    },
    {
      "cell_type": "code",
      "execution_count": 2,
      "metadata": {
        "id": "fzuTMjVznk84"
      },
      "outputs": [],
      "source": [
        "import fireducks.pandas as pd\n",
        "import time"
      ]
    },
    {
      "cell_type": "code",
      "source": [
        "start = time.time()\n",
        "\n",
        "df = pd.read_csv(\"taxi.csv\")\n",
        "\n",
        "big_df = pd.concat([df for _ in range(20)])\n",
        "# small_df = df.head(100)\n",
        "\n",
        "df = df.drop(columns = [\"congestion_surcharge\", \"airport_fee\"])\n",
        "\n",
        "new_df = df.sort_values(by = \"fare_amount\").reset_index(drop=True)\n",
        "\n",
        "t1 = big_df.groupby(\"PULocationID\").mta_tax.mean().reset_index()\n",
        "t2 = big_df.groupby(\"PULocationID\").tip_amount.mean().reset_index()\n",
        "t3 = big_df.groupby(\"PULocationID\").tolls_amount.mean().reset_index()\n",
        "t4 = big_df.groupby(\"PULocationID\").trip_distance.mean().reset_index()\n",
        "\n",
        "\n",
        "t5 = big_df.groupby(\"DOLocationID\").mta_tax.mean().reset_index()\n",
        "t6 = big_df.groupby(\"DOLocationID\").tip_amount.mean().reset_index()\n",
        "t7 = big_df.groupby(\"DOLocationID\").tolls_amount.mean().reset_index()\n",
        "t8 = big_df.groupby(\"DOLocationID\").trip_distance.mean().reset_index()\n",
        "\n",
        "a = (t1._evaluate(), t2._evaluate(), t3._evaluate(), t4._evaluate(),\n",
        "     t5._evaluate(), t6._evaluate(), t7._evaluate(), t8._evaluate())\n",
        "\n",
        "print(f\"FireDucks run-time = {round(time.time()-start, 4)} seconds\")"
      ],
      "metadata": {
        "id": "u-FT1j8W2f2c",
        "colab": {
          "base_uri": "https://localhost:8080/"
        },
        "outputId": "de8d6a7e-674f-47be-e9a7-89ce51f7d52f"
      },
      "execution_count": 3,
      "outputs": [
        {
          "output_type": "stream",
          "name": "stdout",
          "text": [
            "FireDucks run-time = 3.1963 seconds\n"
          ]
        }
      ]
    },
    {
      "cell_type": "code",
      "source": [
        "df = pd.read_csv(\"taxi.csv\")\n",
        "\n",
        "# big_df = pd.concat([df for _ in range(20)])\n",
        "small_df = df.head(100)\n",
        "start = time.time()\n",
        "# df = df.drop(columns = [\"congestion_surcharge\", \"airport_fee\"])\n",
        "\n",
        "# new_df = df.sort_values(by = \"fare_amount\").reset_index(drop=True)\n",
        "\n",
        "t1 = small_df.groupby(\"PULocationID\").mta_tax.mean().reset_index()\n",
        "t2 = small_df.groupby(\"PULocationID\").tip_amount.mean().reset_index()\n",
        "t3 = small_df.groupby(\"PULocationID\").tolls_amount.mean().reset_index()\n",
        "t4 = small_df.groupby(\"PULocationID\").trip_distance.mean().reset_index()\n",
        "\n",
        "\n",
        "t5 = small_df.groupby(\"DOLocationID\").mta_tax.mean().reset_index()\n",
        "t6 = small_df.groupby(\"DOLocationID\").tip_amount.mean().reset_index()\n",
        "t7 = small_df.groupby(\"DOLocationID\").tolls_amount.mean().reset_index()\n",
        "t8 = small_df.groupby(\"DOLocationID\").trip_distance.mean().reset_index()\n",
        "\n",
        "a = (t1._evaluate(), t2._evaluate(), t3._evaluate(), t4._evaluate(),\n",
        "     t5._evaluate(), t6._evaluate(), t7._evaluate(), t8._evaluate())\n",
        "\n",
        "print(f\"FireDucks run-time = {round(time.time()-start, 4)} seconds\")"
      ],
      "metadata": {
        "colab": {
          "base_uri": "https://localhost:8080/"
        },
        "id": "WIx_W9fWq7Sx",
        "outputId": "acabf8af-7676-4b71-9a72-6bed7d8ff956"
      },
      "execution_count": 4,
      "outputs": [
        {
          "output_type": "stream",
          "name": "stdout",
          "text": [
            "FireDucks run-time = 1.1087 seconds\n"
          ]
        }
      ]
    },
    {
      "cell_type": "markdown",
      "source": [
        "# Pandas\n",
        "\n",
        "Restart the session and run Pandas code"
      ],
      "metadata": {
        "id": "1p0vHm4p2xqe"
      }
    },
    {
      "cell_type": "code",
      "source": [
        "import pandas as pd\n",
        "import time"
      ],
      "metadata": {
        "id": "vtNqCfQD2qjO"
      },
      "execution_count": 5,
      "outputs": []
    },
    {
      "cell_type": "code",
      "source": [
        "start = time.time()\n",
        "\n",
        "df = pd.read_csv(\"taxi.csv\")\n",
        "\n",
        "big_df = pd.concat([df for _ in range(20)])\n",
        "\n",
        "df = df.drop(columns = [\"congestion_surcharge\", \"airport_fee\"])\n",
        "\n",
        "new_df = df.sort_values(by = \"fare_amount\").reset_index(drop=True)\n",
        "\n",
        "t1 = big_df.groupby(\"PULocationID\").mta_tax.mean().reset_index()\n",
        "t2 = big_df.groupby(\"PULocationID\").tip_amount.mean().reset_index()\n",
        "t3 = big_df.groupby(\"PULocationID\").tolls_amount.mean().reset_index()\n",
        "t4 = big_df.groupby(\"PULocationID\").trip_distance.mean().reset_index()\n",
        "\n",
        "\n",
        "t5 = big_df.groupby(\"DOLocationID\").mta_tax.mean().reset_index()\n",
        "t6 = big_df.groupby(\"DOLocationID\").tip_amount.mean().reset_index()\n",
        "t7 = big_df.groupby(\"DOLocationID\").tolls_amount.mean().reset_index()\n",
        "t8 = big_df.groupby(\"DOLocationID\").trip_distance.mean().reset_index()\n",
        "\n",
        "a = (t1, t2, t3, t4,\n",
        "     t5, t6, t7, t8)\n",
        "\n",
        "print(f\"Pandas run-time = {round(time.time()-start, 4)} seconds\")"
      ],
      "metadata": {
        "id": "JDxw2EbM2zpG",
        "colab": {
          "base_uri": "https://localhost:8080/"
        },
        "outputId": "af5e25a5-7287-48bf-b099-778e6b16d69b"
      },
      "execution_count": 6,
      "outputs": [
        {
          "output_type": "stream",
          "name": "stdout",
          "text": [
            "Pandas run-time = 13.6093 seconds\n"
          ]
        }
      ]
    },
    {
      "cell_type": "code",
      "source": [
        "df = pd.read_csv(\"taxi.csv\")\n",
        "\n",
        "# big_df = pd.concat([df for _ in range(20)])\n",
        "small_df = df.head(100)\n",
        "\n",
        "start = time.time()\n",
        "# df = df.drop(columns = [\"congestion_surcharge\", \"airport_fee\"])\n",
        "\n",
        "# new_df = df.sort_values(by = \"fare_amount\").reset_index(drop=True)\n",
        "\n",
        "t1 = small_df.groupby(\"PULocationID\").mta_tax.mean().reset_index()\n",
        "t2 = small_df.groupby(\"PULocationID\").tip_amount.mean().reset_index()\n",
        "t3 = small_df.groupby(\"PULocationID\").tolls_amount.mean().reset_index()\n",
        "t4 = small_df.groupby(\"PULocationID\").trip_distance.mean().reset_index()\n",
        "\n",
        "\n",
        "t5 = small_df.groupby(\"DOLocationID\").mta_tax.mean().reset_index()\n",
        "t6 = small_df.groupby(\"DOLocationID\").tip_amount.mean().reset_index()\n",
        "t7 = small_df.groupby(\"DOLocationID\").tolls_amount.mean().reset_index()\n",
        "t8 = small_df.groupby(\"DOLocationID\").trip_distance.mean().reset_index()\n",
        "\n",
        "a = (t1, t2, t3, t4,\n",
        "     t5, t6, t7, t8)\n",
        "\n",
        "print(f\"Pandas run-time = {round(time.time()-start, 4)} seconds\")"
      ],
      "metadata": {
        "colab": {
          "base_uri": "https://localhost:8080/"
        },
        "id": "5VVRjZCNrQOG",
        "outputId": "842dbc24-396d-47fe-a03e-6ee5893f4da7"
      },
      "execution_count": 7,
      "outputs": [
        {
          "output_type": "stream",
          "name": "stdout",
          "text": [
            "Pandas run-time = 0.0075 seconds\n"
          ]
        }
      ]
    },
    {
      "cell_type": "markdown",
      "source": [
        "# Polars"
      ],
      "metadata": {
        "id": "opySzXzA3TEj"
      }
    },
    {
      "cell_type": "code",
      "source": [
        "import polars as pl\n",
        "import time"
      ],
      "metadata": {
        "id": "50zpBDkw3Fo1"
      },
      "execution_count": 9,
      "outputs": []
    },
    {
      "cell_type": "code",
      "source": [
        "start = time.time()\n",
        "\n",
        "df = pl.scan_csv(\"taxi.csv\")\n",
        "\n",
        "big_df = pl.concat([df for _ in range(20)])\n",
        "\n",
        "df = df.drop([\"congestion_surcharge\", \"airport_fee\"])\n",
        "\n",
        "new_df = df.sort(by = \"fare_amount\")\n",
        "\n",
        "t1 = big_df.group_by(\"PULocationID\").agg(pl.mean(\"mta_tax\"))\n",
        "t2 = big_df.group_by(\"PULocationID\").agg(pl.mean(\"tip_amount\"))\n",
        "t3 = big_df.group_by(\"PULocationID\").agg(pl.mean(\"tolls_amount\"))\n",
        "t4 = big_df.group_by(\"PULocationID\").agg(pl.mean(\"trip_distance\"))\n",
        "\n",
        "\n",
        "t5 = big_df.group_by(\"DOLocationID\").agg(pl.mean(\"mta_tax\"))\n",
        "t6 = big_df.group_by(\"DOLocationID\").agg(pl.mean(\"tip_amount\"))\n",
        "t7 = big_df.group_by(\"DOLocationID\").agg(pl.mean(\"tolls_amount\"))\n",
        "t8 = big_df.group_by(\"DOLocationID\").agg(pl.mean(\"trip_distance\"))\n",
        "\n",
        "a = (t1.collect(), t2.collect(), t3.collect(), t4.collect(),\n",
        "     t5.collect(), t6.collect(), t7.collect(), t8.collect())\n",
        "\n",
        "print(f\"Polars run-time = {round(time.time()-start, 4)} seconds\")"
      ],
      "metadata": {
        "colab": {
          "base_uri": "https://localhost:8080/"
        },
        "id": "LGTg9gyD3hgS",
        "outputId": "2126839e-8b13-4347-8ff8-4a01197355e2"
      },
      "execution_count": 10,
      "outputs": [
        {
          "output_type": "stream",
          "name": "stdout",
          "text": [
            "Polars run-time = 25.1797 seconds\n"
          ]
        }
      ]
    },
    {
      "cell_type": "code",
      "source": [
        "\n",
        "\n",
        "df = pl.scan_csv(\"taxi.csv\")\n",
        "\n",
        "# big_df = pl.concat([df for _ in range(20)])\n",
        "small_df = df.head(100)\n",
        "\n",
        "df = df.drop([\"congestion_surcharge\", \"airport_fee\"])\n",
        "\n",
        "new_df = df.sort(by = \"fare_amount\")\n",
        "start = time.time()\n",
        "t1 = small_df.group_by(\"PULocationID\").agg(pl.mean(\"mta_tax\"))\n",
        "t2 = small_df.group_by(\"PULocationID\").agg(pl.mean(\"tip_amount\"))\n",
        "t3 = small_df.group_by(\"PULocationID\").agg(pl.mean(\"tolls_amount\"))\n",
        "t4 = small_df.group_by(\"PULocationID\").agg(pl.mean(\"trip_distance\"))\n",
        "\n",
        "\n",
        "t5 = small_df.group_by(\"DOLocationID\").agg(pl.mean(\"mta_tax\"))\n",
        "t6 = small_df.group_by(\"DOLocationID\").agg(pl.mean(\"tip_amount\"))\n",
        "t7 = small_df.group_by(\"DOLocationID\").agg(pl.mean(\"tolls_amount\"))\n",
        "t8 = small_df.group_by(\"DOLocationID\").agg(pl.mean(\"trip_distance\"))\n",
        "\n",
        "a = (t1.collect(), t2.collect(), t3.collect(), t4.collect(),\n",
        "     t5.collect(), t6.collect(), t7.collect(), t8.collect())\n",
        "\n",
        "print(f\"Polars run-time = {round(time.time()-start, 4)} seconds\")"
      ],
      "metadata": {
        "colab": {
          "base_uri": "https://localhost:8080/"
        },
        "id": "UQ8s0VlTseBH",
        "outputId": "dda60f27-602f-4bc4-9e29-1f26ef05089c"
      },
      "execution_count": 11,
      "outputs": [
        {
          "output_type": "stream",
          "name": "stdout",
          "text": [
            "Polars run-time = 0.2268 seconds\n"
          ]
        }
      ]
    },
    {
      "cell_type": "markdown",
      "source": [
        "# DuckDB"
      ],
      "metadata": {
        "id": "MjeDwpNt5dU4"
      }
    },
    {
      "cell_type": "code",
      "source": [
        "import duckdb\n",
        "import time"
      ],
      "metadata": {
        "id": "dfYda5XL5gEk"
      },
      "execution_count": null,
      "outputs": []
    },
    {
      "cell_type": "code",
      "source": [
        "start = time.time()\n",
        "\n",
        "con = duckdb.connect(database=':memory:')\n",
        "con.execute(\"CREATE TABLE taxi AS SELECT * FROM read_csv_auto('taxi.csv')\")\n",
        "\n",
        "con.execute(f\"CREATE TABLE big_taxi AS {'SELECT * FROM taxi UNION ALL '*19} SELECT * FROM taxi\")\n",
        "\n",
        "con.execute(\"CREATE TABLE taxi_reduced AS SELECT * EXCLUDE (congestion_surcharge, airport_fee) FROM taxi\")\n",
        "\n",
        "sorted_df = con.execute(\"SELECT * FROM taxi_reduced ORDER BY fare_amount\").fetch_df()\n",
        "\n",
        "t1 = con.execute(\"SELECT PULocationID, AVG(mta_tax) FROM big_taxi GROUP BY PULocationID\")\n",
        "t2 = con.execute(\"SELECT PULocationID, AVG(tip_amount) FROM big_taxi GROUP BY PULocationID\")\n",
        "t3 = con.execute(\"SELECT PULocationID, AVG(tolls_amount) FROM big_taxi GROUP BY PULocationID\")\n",
        "t4 = con.execute(\"SELECT PULocationID, AVG(trip_distance) FROM big_taxi GROUP BY PULocationID\")\n",
        "\n",
        "t5 = con.execute(\"SELECT DOLocationID, AVG(mta_tax) FROM big_taxi GROUP BY DOLocationID\")\n",
        "t6 = con.execute(\"SELECT DOLocationID, AVG(tip_amount) FROM big_taxi GROUP BY DOLocationID\")\n",
        "t7 = con.execute(\"SELECT DOLocationID, AVG(tolls_amount) FROM big_taxi GROUP BY DOLocationID\")\n",
        "t8 = con.execute(\"SELECT DOLocationID, AVG(trip_distance) FROM big_taxi GROUP BY DOLocationID\")\n",
        "\n",
        "a = (t1.fetch_df(), t2.fetch_df(), t3.fetch_df(), t4.fetch_df(),\n",
        "     t5.fetch_df(), t6.fetch_df(), t7.fetch_df(), t8.fetch_df())\n",
        "\n",
        "print(f\"DuckDB run-time = {round(time.time()-start, 4)} seconds\")"
      ],
      "metadata": {
        "colab": {
          "base_uri": "https://localhost:8080/",
          "height": 66,
          "referenced_widgets": [
            "be455a5d87cb426da321d36107550297",
            "6dd3e3af95724f04a7ed7d34869b6961",
            "cab4e41c90054694b8ca230313884295"
          ]
        },
        "id": "vjDHQaHR4Hgf",
        "outputId": "804140eb-bb99-4ff4-f710-b22c67c32ed1"
      },
      "execution_count": null,
      "outputs": [
        {
          "output_type": "display_data",
          "data": {
            "text/plain": [
              "FloatProgress(value=0.0, layout=Layout(width='auto'), style=ProgressStyle(bar_color='black'))"
            ],
            "application/vnd.jupyter.widget-view+json": {
              "version_major": 2,
              "version_minor": 0,
              "model_id": "be455a5d87cb426da321d36107550297"
            }
          },
          "metadata": {}
        },
        {
          "output_type": "stream",
          "name": "stdout",
          "text": [
            "DuckDB run-time = 8.0222 seconds\n"
          ]
        }
      ]
    },
    {
      "cell_type": "markdown",
      "source": [
        "## Let's understand the changes"
      ],
      "metadata": {
        "id": "s7VFB1UoqHHl"
      }
    },
    {
      "cell_type": "code",
      "source": [
        "%load_ext fireducks.pandas\n",
        "import pandas as pd\n",
        "pd.__name__"
      ],
      "metadata": {
        "id": "OETCJInQoq-L"
      },
      "execution_count": null,
      "outputs": []
    },
    {
      "cell_type": "code",
      "source": [
        "%%fireducks.profile\n",
        "t1 = time.time()\n",
        "df = pd.read_csv(\"taxi.csv\").groupby(\"PULocationID\").tip_amount.mean().reset_index() # nothing is executed, because there is no explicit evaluation\n",
        "t2 = time.time()\n",
        "print(f\"execution time: {t2 - t1} sec\")"
      ],
      "metadata": {
        "id": "c7qgzZcVpCwV"
      },
      "execution_count": null,
      "outputs": []
    },
    {
      "cell_type": "code",
      "source": [
        "%%fireducks.profile # shows execution time for each kernel-methods used in this cell expression (if executed)\n",
        "t1 = time.time()\n",
        "df = pd.read_csv(\"taxi.csv\").groupby(\"PULocationID\").tip_amount.mean().reset_index()._evaluate() # similar to polars collect(), but adding this will make it different than pandas code\n",
        "t2 = time.time()\n",
        "print(f\"execution time: {t2 - t1} sec\")"
      ],
      "metadata": {
        "id": "Iux1gR0hpE-7"
      },
      "execution_count": null,
      "outputs": []
    },
    {
      "cell_type": "code",
      "source": [
        "%%fireducks.profile # shows execution time for each kernel-methods used in this cell expression (if executed)\n",
        "t1 = time.time()\n",
        "df = pd.read_csv(\"taxi.csv\").groupby(\"PULocationID\").tip_amount.mean().reset_index()\n",
        "print(df.shape) # \"shape\" is a method that will trigger the evaluation, so you may use it if you don't want to use _evaluate() that is a non-pandas method\n",
        "t2 = time.time()\n",
        "print(f\"execution time: {t2 - t1} sec\")"
      ],
      "metadata": {
        "id": "wZoOLg_wviRa"
      },
      "execution_count": null,
      "outputs": []
    },
    {
      "cell_type": "markdown",
      "source": [
        "## For Polars\n",
        "\n",
        "\n",
        "read_csv() in polars is a eager method, so it will stop its optimization.\n",
        "Calling read_csv().lazy() will also stop optimization related to data-load.\n",
        "So better to use scan_csv() to make the comparison looks similar to FireDucks. Also in case of polars-lazy mode, in order to trigger the execution you need to invoke collect() method explicitly. Hence modified it as follows:"
      ],
      "metadata": {
        "id": "neykhXQvqWUM"
      }
    },
    {
      "cell_type": "code",
      "source": [
        "t1 = time.time()\n",
        "df = pl.scan_csv(\"taxi.csv\").group_by(\"PULocationID\").agg(pl.mean(\"tip_amount\")).collect()\n",
        "t2 = time.time()\n",
        "print(f\"execution time: {t2 - t1} sec\")"
      ],
      "metadata": {
        "id": "6Cpt3Dv5qmS-"
      },
      "execution_count": null,
      "outputs": []
    },
    {
      "cell_type": "code",
      "source": [
        "# to check polars kernel wise execution time:\n",
        "t1 = time.time()\n",
        "df = pl.scan_csv(\"taxi.csv\").group_by(\"PULocationID\").agg(pl.mean(\"tip_amount\")).profile()\n",
        "t2 = time.time()\n",
        "print(f\"execution time: {t2 - t1} sec\")\n",
        "df[1].with_columns(((pl.col(\"end\") - pl.col(\"start\")) / 1e2).alias(\"duration(msec)\"))"
      ],
      "metadata": {
        "id": "0tnxb1Tfq3KD"
      },
      "execution_count": null,
      "outputs": []
    },
    {
      "cell_type": "markdown",
      "source": [
        "## Now let's see an interesting difference\n",
        "\n",
        "When you use FireDucks, it can reuse already evaluated expression,\n",
        "\n",
        "but it seems like Polars execute entire lazy-expression for each collect. Hence it becomes slower."
      ],
      "metadata": {
        "id": "hNfruKw2ruMt"
      }
    },
    {
      "cell_type": "code",
      "source": [
        "%%fireducks.profile\n",
        "# You can see read_csv() is called only once, whereas groupby, reset_index() are called two times.\n",
        "# read_csv() is called at the time of computing \"r1\", # and it has been automatically cached by the\n",
        "# FireDucks compiler to be reused in the computation for \"r2\"\n",
        "t1 = time.time()\n",
        "df = pd.read_csv(\"taxi.csv\")\n",
        "r1 = df.groupby(\"PULocationID\").tip_amount.mean().reset_index()._evaluate()\n",
        "r2 = df.groupby(\"PULocationID\").tolls_amount.mean().reset_index()._evaluate()\n",
        "t2 = time.time()\n",
        "print(f\"execution time: {t2 - t1} sec\")"
      ],
      "metadata": {
        "id": "GXE_hQILr9Me"
      },
      "execution_count": null,
      "outputs": []
    },
    {
      "cell_type": "code",
      "source": [
        "# to check polars kernel wise execution time:\n",
        "t1 = time.time()\n",
        "df = pl.scan_csv(\"taxi.csv\")\n",
        "r1 = df.group_by(\"PULocationID\").agg(pl.mean(\"tip_amount\")).profile()\n",
        "r2 = df.group_by(\"PULocationID\").agg(pl.mean(\"tolls_amount\")).profile()\n",
        "t2 = time.time()\n",
        "print(f\"execution time: {t2 - t1} sec\")"
      ],
      "metadata": {
        "id": "l41dhvQTsNIl"
      },
      "execution_count": null,
      "outputs": []
    },
    {
      "cell_type": "code",
      "source": [
        "r1[1].with_columns(((pl.col(\"end\") - pl.col(\"start\")) / 1e2).alias(\"duration(msec)\")) # for r1: it will execute everything (read-csv, groupby-projection)"
      ],
      "metadata": {
        "id": "dD9Jk1jcsU8Z"
      },
      "execution_count": null,
      "outputs": []
    },
    {
      "cell_type": "code",
      "source": [
        "r2[1].with_columns(((pl.col(\"end\") - pl.col(\"start\")) / 1e2).alias(\"duration(msec)\")) # for r2: it will again execute everything (read-csv, groupby-projection)"
      ],
      "metadata": {
        "id": "3laf6iJCsaf9"
      },
      "execution_count": null,
      "outputs": []
    }
  ],
  "metadata": {
    "colab": {
      "provenance": [],
      "gpuType": "V28",
      "include_colab_link": true
    },
    "kernelspec": {
      "display_name": "Python 3",
      "name": "python3"
    },
    "language_info": {
      "name": "python"
    },
    "accelerator": "TPU",
  },
  "nbformat": 4,
  "nbformat_minor": 0
}
